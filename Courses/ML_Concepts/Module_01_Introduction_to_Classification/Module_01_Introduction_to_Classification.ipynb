{
  "cells": [
    {
      "cell_type": "markdown",
      "metadata": {
        "id": "view-in-github",
        "colab_type": "text"
      },
      "source": [
        "<a href=\"https://colab.research.google.com/github/rafael-solorzano/AIM-AHEAD/blob/main/Courses/ML_Concepts/Module_01_Introduction_to_Classification/Module_01_Introduction_to_Classification.ipynb\" target=\"_parent\"><img src=\"https://colab.research.google.com/assets/colab-badge.svg\" alt=\"Open In Colab\"/></a>"
      ]
    },
    {
      "cell_type": "markdown",
      "metadata": {
        "id": "X-78aC6o_Ehe"
      },
      "source": [
        "<img src=\"https://raw.githubusercontent.com/ICBI/AIMAHEAD_GU_publicCourseData/main/AAlogo1.jpg\" alt=\"Powered by\" width=\"150\"/>\n",
        "\n",
        "#AI/ML for Healthcare Applications : Lab 1 Introduction to Classification\n",
        "\n",
        "Based on material from the Georgetown [Health Informatics and Data Science](https://healthinformatics.georgetown.edu) program and licensed under  [CC4.0](https://creativecommons.org/licenses/by/4.0/)\n",
        "\n",
        "---"
      ]
    },
    {
      "cell_type": "markdown",
      "metadata": {
        "id": "FVAqdOpiH6In"
      },
      "source": [
        "#Module 1: Introduction to Classification"
      ]
    },
    {
      "cell_type": "markdown",
      "metadata": {
        "id": "okA-YCqEIB16"
      },
      "source": [
        "The aim of this notebook is to provide an hands-on demo to machine learning in Python. We will be using `scikit-learn`, which is a popular Python package for machine learning. `Scikit-learn` is an open source machine learning library that supports supervised and unsupervised learning. It also provides various tools for model fitting, data preprocessing, model selection and evaluation, and many other utilities.\n",
        "\n",
        "Learn more about **scikit-learn** (**sklearn** for short) here: https://scikit-learn.org/stable/\n",
        "Sklearn tutorials covering various aspects of machine learning can be found here: https://scikit-learn.org/stable/tutorial/index.html\n",
        "\n",
        "\n"
      ]
    },
    {
      "cell_type": "markdown",
      "metadata": {
        "id": "1AyVFGr1JJQ-"
      },
      "source": [
        "The learning objective of this notebook are:\n",
        "* Learning how to train a basic classification model\n",
        "* Use the model to make predictions on new unseen data\n",
        "* Generate a confusion matrix and a classification report\n",
        "* Learn how to calculate different metrics\n",
        "* Plot ROC curves\n",
        "* Try other classifiers and compare models"
      ]
    },
    {
      "cell_type": "markdown",
      "metadata": {
        "id": "zl1rH9XxJepN"
      },
      "source": [
        "## Packages\n",
        "\n"
      ]
    },
    {
      "cell_type": "markdown",
      "metadata": {
        "id": "3JGd4hITJna_"
      },
      "source": [
        "We will start by loading some of the packages that will help us\n",
        "organize and visualize the data. Other packages will be loaded as necessary."
      ]
    },
    {
      "cell_type": "code",
      "execution_count": 2,
      "metadata": {
        "id": "YUsd9_ZNI49l"
      },
      "outputs": [],
      "source": [
        "#Import packages\n",
        "from collections import Counter\n",
        "import pandas as pd\n",
        "import numpy as np\n",
        "import collections, numpy\n",
        "import mlxtend\n",
        "import matplotlib\n",
        "from matplotlib import pyplot\n",
        "import matplotlib.pyplot as plt\n",
        "import seaborn as sns; sns.set()\n",
        "matplotlib.rcParams['figure.figsize'] = (10, 10)\n",
        "\n",
        "\n",
        "from sklearn.datasets import make_classification\n",
        "from sklearn.metrics import confusion_matrix\n",
        "from mlxtend.plotting import plot_confusion_matrix\n",
        "\n",
        "\n",
        "from sklearn.linear_model import LogisticRegression\n",
        "from sklearn.ensemble import RandomForestClassifier\n",
        "from sklearn import svm\n",
        "from sklearn.neighbors import KNeighborsClassifier\n",
        "from sklearn.model_selection import train_test_split\n",
        "from sklearn.model_selection import cross_validate\n",
        "\n",
        "from sklearn.metrics import classification_report\n",
        "from sklearn.metrics import accuracy_score, f1_score, roc_auc_score, precision_score, recall_score\n",
        "from sklearn.metrics import roc_curve, precision_recall_curve, auc"
      ]
    },
    {
      "cell_type": "markdown",
      "metadata": {
        "id": "yy1I1m_zUT5u"
      },
      "source": [
        "## Part 1: Load and Format the Dataset"
      ]
    },
    {
      "cell_type": "markdown",
      "metadata": {
        "id": "gY5DqwrDUV1z"
      },
      "source": [
        "We will be building and evaluating models to predict **diabetes** using using the diabetes dataset from the National Institute of Diabetes and Digestive and Kidney Diseases (**NIDDK**).\n",
        "\n",
        "The objective of the dataset is to diagnostically predict whether or not a patient has diabetes, based on certain diagnostic measurements included in the dataset.\n",
        "\n",
        "We will be using the **NIDDK diabetes dataset**, which contains 768 female patients of at least 21 years old.  Fields in this dataset are:\n",
        "\n",
        "\n",
        "\n",
        "\n",
        "* **Pregnancies:** Number of times pregnant\n",
        "* **Glucose:** Plasma glucose concentration a 2 hours in an oral glucose tolerance test\n",
        "* **BloodPressure:** Diastolic blood pressure (mm Hg)\n",
        "* **SkinThickness:** Triceps skin fold thickness (mm)\n",
        "* **Insulin:** 2-Hour serum insulin (mu U/ml)\n",
        "* **BMI:** Body mass index (weight in kg/(height in m)^2)\n",
        "* **DiabetesPedigreeFunction:** Diabetes pedigree function\n",
        "* **Age:** Age (years)\n",
        "* **Outcome:** Class variable (0 or 1); class value 1 is interpreted as \"tested positive for diabetes\"\n"
      ]
    },
    {
      "cell_type": "markdown",
      "metadata": {
        "id": "Od2TS_dSVuT6"
      },
      "source": [
        "Let's explore the dataset. You must first obtain the data file \"diabetes.csv\" and upload it to a directory that is accessable by this colab notebook."
      ]
    },
    {
      "cell_type": "code",
      "execution_count": null,
      "metadata": {
        "colab": {
          "base_uri": "https://localhost:8080/"
        },
        "id": "XyeIA6tKVpeo",
        "outputId": "44ba9856-e6ab-4844-daab-b939d2834cbc"
      },
      "outputs": [
        {
          "name": "stdout",
          "output_type": "stream",
          "text": [
            "--2022-11-18 14:03:40--  https://raw.githubusercontent.com/ICBI/AIMAHEAD_GU_publicCourseData/main/ML_Concepts/diabetes.csv\n",
            "Resolving raw.githubusercontent.com (raw.githubusercontent.com)... 185.199.108.133, 185.199.109.133, 185.199.110.133, ...\n",
            "Connecting to raw.githubusercontent.com (raw.githubusercontent.com)|185.199.108.133|:443... connected.\n",
            "HTTP request sent, awaiting response... 200 OK\n",
            "Length: 24409 (24K) [text/plain]\n",
            "Saving to: ‘diabetes.csv.1’\n",
            "\n",
            "\r",
            "diabetes.csv.1        0%[                    ]       0  --.-KB/s               \r",
            "diabetes.csv.1      100%[===================>]  23.84K  --.-KB/s    in 0.001s  \n",
            "\n",
            "2022-11-18 14:03:40 (16.6 MB/s) - ‘diabetes.csv.1’ saved [24409/24409]\n",
            "\n"
          ]
        }
      ],
      "source": [
        "!wget https://raw.githubusercontent.com/ICBI/AIMAHEAD_GU_publicCourseData/main/ML_Concepts/diabetes.csv\n",
        "diabetes_file = \"/content/diabetes.csv\""
      ]
    },
    {
      "cell_type": "code",
      "execution_count": null,
      "metadata": {
        "id": "q7CZ8tDU8YmU"
      },
      "outputs": [],
      "source": [
        "diabetes_df = pd.read_csv(diabetes_file)"
      ]
    },
    {
      "cell_type": "markdown",
      "metadata": {
        "id": "lZ6LzBpSeX2Q"
      },
      "source": [
        "We can use the head() function to inspect the first few rows of the dataset, and the \"shape\" property confirms that we have 9 columns of data on 768 patients."
      ]
    },
    {
      "cell_type": "code",
      "execution_count": null,
      "metadata": {
        "colab": {
          "base_uri": "https://localhost:8080/",
          "height": 206
        },
        "id": "dPgy2AMLV8Lv",
        "outputId": "abede8f7-5b2a-46c8-df83-cb9515467d9a"
      },
      "outputs": [
        {
          "data": {
            "text/html": [
              "\n",
              "  <div id=\"df-82848b59-315e-4e9a-be04-5fe7510a5491\">\n",
              "    <div class=\"colab-df-container\">\n",
              "      <div>\n",
              "<style scoped>\n",
              "    .dataframe tbody tr th:only-of-type {\n",
              "        vertical-align: middle;\n",
              "    }\n",
              "\n",
              "    .dataframe tbody tr th {\n",
              "        vertical-align: top;\n",
              "    }\n",
              "\n",
              "    .dataframe thead th {\n",
              "        text-align: right;\n",
              "    }\n",
              "</style>\n",
              "<table border=\"1\" class=\"dataframe\">\n",
              "  <thead>\n",
              "    <tr style=\"text-align: right;\">\n",
              "      <th></th>\n",
              "      <th>Pregnancies</th>\n",
              "      <th>Glucose</th>\n",
              "      <th>BloodPressure</th>\n",
              "      <th>SkinThickness</th>\n",
              "      <th>Insulin</th>\n",
              "      <th>BMI</th>\n",
              "      <th>DiabetesPedigreeFunction</th>\n",
              "      <th>Age</th>\n",
              "      <th>Outcome</th>\n",
              "    </tr>\n",
              "  </thead>\n",
              "  <tbody>\n",
              "    <tr>\n",
              "      <th>0</th>\n",
              "      <td>6</td>\n",
              "      <td>148.0</td>\n",
              "      <td>72.0</td>\n",
              "      <td>35.0</td>\n",
              "      <td>NaN</td>\n",
              "      <td>33.6</td>\n",
              "      <td>0.627</td>\n",
              "      <td>50</td>\n",
              "      <td>1</td>\n",
              "    </tr>\n",
              "    <tr>\n",
              "      <th>1</th>\n",
              "      <td>1</td>\n",
              "      <td>85.0</td>\n",
              "      <td>66.0</td>\n",
              "      <td>29.0</td>\n",
              "      <td>NaN</td>\n",
              "      <td>26.6</td>\n",
              "      <td>0.351</td>\n",
              "      <td>31</td>\n",
              "      <td>0</td>\n",
              "    </tr>\n",
              "    <tr>\n",
              "      <th>2</th>\n",
              "      <td>8</td>\n",
              "      <td>183.0</td>\n",
              "      <td>64.0</td>\n",
              "      <td>NaN</td>\n",
              "      <td>NaN</td>\n",
              "      <td>23.3</td>\n",
              "      <td>0.672</td>\n",
              "      <td>32</td>\n",
              "      <td>1</td>\n",
              "    </tr>\n",
              "    <tr>\n",
              "      <th>3</th>\n",
              "      <td>1</td>\n",
              "      <td>89.0</td>\n",
              "      <td>66.0</td>\n",
              "      <td>23.0</td>\n",
              "      <td>94.0</td>\n",
              "      <td>28.1</td>\n",
              "      <td>0.167</td>\n",
              "      <td>21</td>\n",
              "      <td>0</td>\n",
              "    </tr>\n",
              "    <tr>\n",
              "      <th>4</th>\n",
              "      <td>0</td>\n",
              "      <td>137.0</td>\n",
              "      <td>40.0</td>\n",
              "      <td>35.0</td>\n",
              "      <td>168.0</td>\n",
              "      <td>43.1</td>\n",
              "      <td>2.288</td>\n",
              "      <td>33</td>\n",
              "      <td>1</td>\n",
              "    </tr>\n",
              "  </tbody>\n",
              "</table>\n",
              "</div>\n",
              "      <button class=\"colab-df-convert\" onclick=\"convertToInteractive('df-82848b59-315e-4e9a-be04-5fe7510a5491')\"\n",
              "              title=\"Convert this dataframe to an interactive table.\"\n",
              "              style=\"display:none;\">\n",
              "        \n",
              "  <svg xmlns=\"http://www.w3.org/2000/svg\" height=\"24px\"viewBox=\"0 0 24 24\"\n",
              "       width=\"24px\">\n",
              "    <path d=\"M0 0h24v24H0V0z\" fill=\"none\"/>\n",
              "    <path d=\"M18.56 5.44l.94 2.06.94-2.06 2.06-.94-2.06-.94-.94-2.06-.94 2.06-2.06.94zm-11 1L8.5 8.5l.94-2.06 2.06-.94-2.06-.94L8.5 2.5l-.94 2.06-2.06.94zm10 10l.94 2.06.94-2.06 2.06-.94-2.06-.94-.94-2.06-.94 2.06-2.06.94z\"/><path d=\"M17.41 7.96l-1.37-1.37c-.4-.4-.92-.59-1.43-.59-.52 0-1.04.2-1.43.59L10.3 9.45l-7.72 7.72c-.78.78-.78 2.05 0 2.83L4 21.41c.39.39.9.59 1.41.59.51 0 1.02-.2 1.41-.59l7.78-7.78 2.81-2.81c.8-.78.8-2.07 0-2.86zM5.41 20L4 18.59l7.72-7.72 1.47 1.35L5.41 20z\"/>\n",
              "  </svg>\n",
              "      </button>\n",
              "      \n",
              "  <style>\n",
              "    .colab-df-container {\n",
              "      display:flex;\n",
              "      flex-wrap:wrap;\n",
              "      gap: 12px;\n",
              "    }\n",
              "\n",
              "    .colab-df-convert {\n",
              "      background-color: #E8F0FE;\n",
              "      border: none;\n",
              "      border-radius: 50%;\n",
              "      cursor: pointer;\n",
              "      display: none;\n",
              "      fill: #1967D2;\n",
              "      height: 32px;\n",
              "      padding: 0 0 0 0;\n",
              "      width: 32px;\n",
              "    }\n",
              "\n",
              "    .colab-df-convert:hover {\n",
              "      background-color: #E2EBFA;\n",
              "      box-shadow: 0px 1px 2px rgba(60, 64, 67, 0.3), 0px 1px 3px 1px rgba(60, 64, 67, 0.15);\n",
              "      fill: #174EA6;\n",
              "    }\n",
              "\n",
              "    [theme=dark] .colab-df-convert {\n",
              "      background-color: #3B4455;\n",
              "      fill: #D2E3FC;\n",
              "    }\n",
              "\n",
              "    [theme=dark] .colab-df-convert:hover {\n",
              "      background-color: #434B5C;\n",
              "      box-shadow: 0px 1px 3px 1px rgba(0, 0, 0, 0.15);\n",
              "      filter: drop-shadow(0px 1px 2px rgba(0, 0, 0, 0.3));\n",
              "      fill: #FFFFFF;\n",
              "    }\n",
              "  </style>\n",
              "\n",
              "      <script>\n",
              "        const buttonEl =\n",
              "          document.querySelector('#df-82848b59-315e-4e9a-be04-5fe7510a5491 button.colab-df-convert');\n",
              "        buttonEl.style.display =\n",
              "          google.colab.kernel.accessAllowed ? 'block' : 'none';\n",
              "\n",
              "        async function convertToInteractive(key) {\n",
              "          const element = document.querySelector('#df-82848b59-315e-4e9a-be04-5fe7510a5491');\n",
              "          const dataTable =\n",
              "            await google.colab.kernel.invokeFunction('convertToInteractive',\n",
              "                                                     [key], {});\n",
              "          if (!dataTable) return;\n",
              "\n",
              "          const docLinkHtml = 'Like what you see? Visit the ' +\n",
              "            '<a target=\"_blank\" href=https://colab.research.google.com/notebooks/data_table.ipynb>data table notebook</a>'\n",
              "            + ' to learn more about interactive tables.';\n",
              "          element.innerHTML = '';\n",
              "          dataTable['output_type'] = 'display_data';\n",
              "          await google.colab.output.renderOutput(dataTable, element);\n",
              "          const docLink = document.createElement('div');\n",
              "          docLink.innerHTML = docLinkHtml;\n",
              "          element.appendChild(docLink);\n",
              "        }\n",
              "      </script>\n",
              "    </div>\n",
              "  </div>\n",
              "  "
            ],
            "text/plain": [
              "   Pregnancies  Glucose  BloodPressure  SkinThickness  Insulin   BMI  \\\n",
              "0            6    148.0           72.0           35.0      NaN  33.6   \n",
              "1            1     85.0           66.0           29.0      NaN  26.6   \n",
              "2            8    183.0           64.0            NaN      NaN  23.3   \n",
              "3            1     89.0           66.0           23.0     94.0  28.1   \n",
              "4            0    137.0           40.0           35.0    168.0  43.1   \n",
              "\n",
              "   DiabetesPedigreeFunction  Age  Outcome  \n",
              "0                     0.627   50        1  \n",
              "1                     0.351   31        0  \n",
              "2                     0.672   32        1  \n",
              "3                     0.167   21        0  \n",
              "4                     2.288   33        1  "
            ]
          },
          "execution_count": 59,
          "metadata": {},
          "output_type": "execute_result"
        }
      ],
      "source": [
        "diabetes_df.head()"
      ]
    },
    {
      "cell_type": "code",
      "execution_count": null,
      "metadata": {
        "colab": {
          "base_uri": "https://localhost:8080/"
        },
        "id": "_V4S1m1IV9BT",
        "outputId": "edfb4fcd-a247-4b5e-d46b-62fc3eda17a7"
      },
      "outputs": [
        {
          "data": {
            "text/plain": [
              "(768, 9)"
            ]
          },
          "execution_count": 60,
          "metadata": {},
          "output_type": "execute_result"
        }
      ],
      "source": [
        "diabetes_df.shape"
      ]
    },
    {
      "cell_type": "markdown",
      "metadata": {
        "id": "dc_ZITvoV_Rd"
      },
      "source": [
        "A common problem with large datasets is missing values. We can quantify how many of patients are missing some data by using the \"isnull()\" and \"sum()\" methods to generate a count of missing values, broken down by the fields in our dataset."
      ]
    },
    {
      "cell_type": "code",
      "execution_count": null,
      "metadata": {
        "colab": {
          "base_uri": "https://localhost:8080/"
        },
        "id": "i6BNAC4TWBkx",
        "outputId": "d6d4fdb0-79ef-4fb5-fea8-d0343816d315"
      },
      "outputs": [
        {
          "data": {
            "text/plain": [
              "Pregnancies                   0\n",
              "Glucose                       5\n",
              "BloodPressure                35\n",
              "SkinThickness               227\n",
              "Insulin                     374\n",
              "BMI                          11\n",
              "DiabetesPedigreeFunction      0\n",
              "Age                           0\n",
              "Outcome                       0\n",
              "dtype: int64"
            ]
          },
          "execution_count": 61,
          "metadata": {},
          "output_type": "execute_result"
        }
      ],
      "source": [
        "diabetes_df.isnull().sum()"
      ]
    },
    {
      "cell_type": "markdown",
      "metadata": {
        "id": "Wdp0aFHPeFBL"
      },
      "source": [
        "The missing values in the \"Pregnancies\" field actually correspond to the patient never having given birth. There is a convient function for replacing missing values called \"fillna()\". The first argument is the value used to replace the missing data, and the \"inplace=True\" option modifies the dataframe without having to reassign. Here, we can replace the missing pregnacy data with a 0."
      ]
    },
    {
      "cell_type": "code",
      "execution_count": null,
      "metadata": {
        "id": "A5XrWXu3WDKb"
      },
      "outputs": [],
      "source": [
        "diabetes_df['Pregnancies'].fillna(0, inplace=True)"
      ]
    },
    {
      "cell_type": "markdown",
      "metadata": {
        "id": "r3qFqo0jWDsy"
      },
      "source": [
        "Similarly, we can use the \"fillna()\" method to replacing the other missing values in the dataset. We can select any value that makes sense for the given field, and in this case we use the median value to replace the missing data from the corresponding column."
      ]
    },
    {
      "cell_type": "code",
      "execution_count": null,
      "metadata": {
        "id": "Tjcsmzy_WI9c"
      },
      "outputs": [],
      "source": [
        "diabetes_df['Glucose'].fillna(diabetes_df['Glucose'].median(), inplace=True)\n",
        "diabetes_df['BloodPressure'].fillna(diabetes_df['BloodPressure'].median(), inplace=True)\n",
        "diabetes_df['SkinThickness'].fillna(diabetes_df['SkinThickness'].median(), inplace=True)\n",
        "diabetes_df['Insulin'].fillna(diabetes_df['Insulin'].median(), inplace=True)\n",
        "diabetes_df['BMI'].fillna(diabetes_df['BMI'].median(), inplace=True)"
      ]
    },
    {
      "cell_type": "markdown",
      "metadata": {
        "id": "OOiU_4CzfxWU"
      },
      "source": [
        "And we can verify that all missing data has been replaced using the \"isnull()\" and \"sum()\" methods in series."
      ]
    },
    {
      "cell_type": "code",
      "execution_count": null,
      "metadata": {
        "colab": {
          "base_uri": "https://localhost:8080/"
        },
        "id": "VX9zgsO_WKjN",
        "outputId": "b3953064-113f-4759-8757-4b9766406b46"
      },
      "outputs": [
        {
          "data": {
            "text/plain": [
              "Pregnancies                 0\n",
              "Glucose                     0\n",
              "BloodPressure               0\n",
              "SkinThickness               0\n",
              "Insulin                     0\n",
              "BMI                         0\n",
              "DiabetesPedigreeFunction    0\n",
              "Age                         0\n",
              "Outcome                     0\n",
              "dtype: int64"
            ]
          },
          "execution_count": 64,
          "metadata": {},
          "output_type": "execute_result"
        }
      ],
      "source": [
        "diabetes_df.isnull().sum()"
      ]
    },
    {
      "cell_type": "markdown",
      "metadata": {
        "id": "GW4reJA9sdCJ"
      },
      "source": [
        "We can see that all the missing values have now been replaced. Using Counter(), we can summarize the \"Outcome\" column of our dataframe."
      ]
    },
    {
      "cell_type": "code",
      "execution_count": null,
      "metadata": {
        "colab": {
          "base_uri": "https://localhost:8080/"
        },
        "id": "eN2z3m_0WMet",
        "outputId": "830fc06c-53b3-4004-9946-c1c00a8f95e4"
      },
      "outputs": [
        {
          "data": {
            "text/plain": [
              "Counter({1: 268, 0: 500})"
            ]
          },
          "execution_count": 65,
          "metadata": {},
          "output_type": "execute_result"
        }
      ],
      "source": [
        "Counter(diabetes_df['Outcome'])"
      ]
    },
    {
      "cell_type": "markdown",
      "metadata": {
        "id": "HQiyKwPWWY1t"
      },
      "source": [
        "We can see that there are 500 patients without a diabetes diagnosis, and 268 who do have diabetes. But before we can train ML models, we have to seperate the features (`X`) and the outcome variable (`y`)"
      ]
    },
    {
      "cell_type": "markdown",
      "metadata": {
        "id": "D5dUxRcNWlhd"
      },
      "source": [
        "![samples-features.png](data:image/png;base64,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)"
      ]
    },
    {
      "cell_type": "markdown",
      "metadata": {
        "id": "b8H6Oy1htfGB"
      },
      "source": [
        "To separate our features from the outcome label, we can use the drop() method to remove the \"Outcome\" column from the dataframe, and reassign the result to X_df. For the outcome label, we can simply assign the \"Outcome\" column to a new dataframe."
      ]
    },
    {
      "cell_type": "code",
      "execution_count": null,
      "metadata": {
        "id": "hcWVRHLRWNfT"
      },
      "outputs": [],
      "source": [
        "#Preparing the data for the ML models\n",
        "X_df = diabetes_df.drop('Outcome',axis=1)\n",
        "y_df = diabetes_df['Outcome']"
      ]
    },
    {
      "cell_type": "markdown",
      "metadata": {
        "id": "oqQkTpf8t7PS"
      },
      "source": [
        "Using the shape() and head() methods, we can varify that X_df and y_df are what we expect. The data for all 768 patients has been separated in the 8 feature columns and 1 label column."
      ]
    },
    {
      "cell_type": "code",
      "execution_count": null,
      "metadata": {
        "colab": {
          "base_uri": "https://localhost:8080/"
        },
        "id": "vja-bk1_WtQU",
        "outputId": "369e684c-9f24-4d93-e0bd-25022073d529"
      },
      "outputs": [
        {
          "data": {
            "text/plain": [
              "((768, 8), (768,))"
            ]
          },
          "execution_count": 67,
          "metadata": {},
          "output_type": "execute_result"
        }
      ],
      "source": [
        "X_df.shape, y_df.shape"
      ]
    },
    {
      "cell_type": "code",
      "execution_count": null,
      "metadata": {
        "colab": {
          "base_uri": "https://localhost:8080/",
          "height": 206
        },
        "id": "zgzZ1zw8WwqP",
        "outputId": "b398778c-d3c8-4d32-ea57-bc3a9fe1fc58"
      },
      "outputs": [
        {
          "data": {
            "text/html": [
              "\n",
              "  <div id=\"df-656cfe13-639a-4877-a478-9d7d86efeb22\">\n",
              "    <div class=\"colab-df-container\">\n",
              "      <div>\n",
              "<style scoped>\n",
              "    .dataframe tbody tr th:only-of-type {\n",
              "        vertical-align: middle;\n",
              "    }\n",
              "\n",
              "    .dataframe tbody tr th {\n",
              "        vertical-align: top;\n",
              "    }\n",
              "\n",
              "    .dataframe thead th {\n",
              "        text-align: right;\n",
              "    }\n",
              "</style>\n",
              "<table border=\"1\" class=\"dataframe\">\n",
              "  <thead>\n",
              "    <tr style=\"text-align: right;\">\n",
              "      <th></th>\n",
              "      <th>Pregnancies</th>\n",
              "      <th>Glucose</th>\n",
              "      <th>BloodPressure</th>\n",
              "      <th>SkinThickness</th>\n",
              "      <th>Insulin</th>\n",
              "      <th>BMI</th>\n",
              "      <th>DiabetesPedigreeFunction</th>\n",
              "      <th>Age</th>\n",
              "    </tr>\n",
              "  </thead>\n",
              "  <tbody>\n",
              "    <tr>\n",
              "      <th>0</th>\n",
              "      <td>6</td>\n",
              "      <td>148.0</td>\n",
              "      <td>72.0</td>\n",
              "      <td>35.0</td>\n",
              "      <td>125.0</td>\n",
              "      <td>33.6</td>\n",
              "      <td>0.627</td>\n",
              "      <td>50</td>\n",
              "    </tr>\n",
              "    <tr>\n",
              "      <th>1</th>\n",
              "      <td>1</td>\n",
              "      <td>85.0</td>\n",
              "      <td>66.0</td>\n",
              "      <td>29.0</td>\n",
              "      <td>125.0</td>\n",
              "      <td>26.6</td>\n",
              "      <td>0.351</td>\n",
              "      <td>31</td>\n",
              "    </tr>\n",
              "    <tr>\n",
              "      <th>2</th>\n",
              "      <td>8</td>\n",
              "      <td>183.0</td>\n",
              "      <td>64.0</td>\n",
              "      <td>29.0</td>\n",
              "      <td>125.0</td>\n",
              "      <td>23.3</td>\n",
              "      <td>0.672</td>\n",
              "      <td>32</td>\n",
              "    </tr>\n",
              "    <tr>\n",
              "      <th>3</th>\n",
              "      <td>1</td>\n",
              "      <td>89.0</td>\n",
              "      <td>66.0</td>\n",
              "      <td>23.0</td>\n",
              "      <td>94.0</td>\n",
              "      <td>28.1</td>\n",
              "      <td>0.167</td>\n",
              "      <td>21</td>\n",
              "    </tr>\n",
              "    <tr>\n",
              "      <th>4</th>\n",
              "      <td>0</td>\n",
              "      <td>137.0</td>\n",
              "      <td>40.0</td>\n",
              "      <td>35.0</td>\n",
              "      <td>168.0</td>\n",
              "      <td>43.1</td>\n",
              "      <td>2.288</td>\n",
              "      <td>33</td>\n",
              "    </tr>\n",
              "  </tbody>\n",
              "</table>\n",
              "</div>\n",
              "      <button class=\"colab-df-convert\" onclick=\"convertToInteractive('df-656cfe13-639a-4877-a478-9d7d86efeb22')\"\n",
              "              title=\"Convert this dataframe to an interactive table.\"\n",
              "              style=\"display:none;\">\n",
              "        \n",
              "  <svg xmlns=\"http://www.w3.org/2000/svg\" height=\"24px\"viewBox=\"0 0 24 24\"\n",
              "       width=\"24px\">\n",
              "    <path d=\"M0 0h24v24H0V0z\" fill=\"none\"/>\n",
              "    <path d=\"M18.56 5.44l.94 2.06.94-2.06 2.06-.94-2.06-.94-.94-2.06-.94 2.06-2.06.94zm-11 1L8.5 8.5l.94-2.06 2.06-.94-2.06-.94L8.5 2.5l-.94 2.06-2.06.94zm10 10l.94 2.06.94-2.06 2.06-.94-2.06-.94-.94-2.06-.94 2.06-2.06.94z\"/><path d=\"M17.41 7.96l-1.37-1.37c-.4-.4-.92-.59-1.43-.59-.52 0-1.04.2-1.43.59L10.3 9.45l-7.72 7.72c-.78.78-.78 2.05 0 2.83L4 21.41c.39.39.9.59 1.41.59.51 0 1.02-.2 1.41-.59l7.78-7.78 2.81-2.81c.8-.78.8-2.07 0-2.86zM5.41 20L4 18.59l7.72-7.72 1.47 1.35L5.41 20z\"/>\n",
              "  </svg>\n",
              "      </button>\n",
              "      \n",
              "  <style>\n",
              "    .colab-df-container {\n",
              "      display:flex;\n",
              "      flex-wrap:wrap;\n",
              "      gap: 12px;\n",
              "    }\n",
              "\n",
              "    .colab-df-convert {\n",
              "      background-color: #E8F0FE;\n",
              "      border: none;\n",
              "      border-radius: 50%;\n",
              "      cursor: pointer;\n",
              "      display: none;\n",
              "      fill: #1967D2;\n",
              "      height: 32px;\n",
              "      padding: 0 0 0 0;\n",
              "      width: 32px;\n",
              "    }\n",
              "\n",
              "    .colab-df-convert:hover {\n",
              "      background-color: #E2EBFA;\n",
              "      box-shadow: 0px 1px 2px rgba(60, 64, 67, 0.3), 0px 1px 3px 1px rgba(60, 64, 67, 0.15);\n",
              "      fill: #174EA6;\n",
              "    }\n",
              "\n",
              "    [theme=dark] .colab-df-convert {\n",
              "      background-color: #3B4455;\n",
              "      fill: #D2E3FC;\n",
              "    }\n",
              "\n",
              "    [theme=dark] .colab-df-convert:hover {\n",
              "      background-color: #434B5C;\n",
              "      box-shadow: 0px 1px 3px 1px rgba(0, 0, 0, 0.15);\n",
              "      filter: drop-shadow(0px 1px 2px rgba(0, 0, 0, 0.3));\n",
              "      fill: #FFFFFF;\n",
              "    }\n",
              "  </style>\n",
              "\n",
              "      <script>\n",
              "        const buttonEl =\n",
              "          document.querySelector('#df-656cfe13-639a-4877-a478-9d7d86efeb22 button.colab-df-convert');\n",
              "        buttonEl.style.display =\n",
              "          google.colab.kernel.accessAllowed ? 'block' : 'none';\n",
              "\n",
              "        async function convertToInteractive(key) {\n",
              "          const element = document.querySelector('#df-656cfe13-639a-4877-a478-9d7d86efeb22');\n",
              "          const dataTable =\n",
              "            await google.colab.kernel.invokeFunction('convertToInteractive',\n",
              "                                                     [key], {});\n",
              "          if (!dataTable) return;\n",
              "\n",
              "          const docLinkHtml = 'Like what you see? Visit the ' +\n",
              "            '<a target=\"_blank\" href=https://colab.research.google.com/notebooks/data_table.ipynb>data table notebook</a>'\n",
              "            + ' to learn more about interactive tables.';\n",
              "          element.innerHTML = '';\n",
              "          dataTable['output_type'] = 'display_data';\n",
              "          await google.colab.output.renderOutput(dataTable, element);\n",
              "          const docLink = document.createElement('div');\n",
              "          docLink.innerHTML = docLinkHtml;\n",
              "          element.appendChild(docLink);\n",
              "        }\n",
              "      </script>\n",
              "    </div>\n",
              "  </div>\n",
              "  "
            ],
            "text/plain": [
              "   Pregnancies  Glucose  BloodPressure  SkinThickness  Insulin   BMI  \\\n",
              "0            6    148.0           72.0           35.0    125.0  33.6   \n",
              "1            1     85.0           66.0           29.0    125.0  26.6   \n",
              "2            8    183.0           64.0           29.0    125.0  23.3   \n",
              "3            1     89.0           66.0           23.0     94.0  28.1   \n",
              "4            0    137.0           40.0           35.0    168.0  43.1   \n",
              "\n",
              "   DiabetesPedigreeFunction  Age  \n",
              "0                     0.627   50  \n",
              "1                     0.351   31  \n",
              "2                     0.672   32  \n",
              "3                     0.167   21  \n",
              "4                     2.288   33  "
            ]
          },
          "execution_count": 68,
          "metadata": {},
          "output_type": "execute_result"
        }
      ],
      "source": [
        "X_df.head()"
      ]
    },
    {
      "cell_type": "code",
      "execution_count": null,
      "metadata": {
        "colab": {
          "base_uri": "https://localhost:8080/"
        },
        "id": "xTb4p4GRWygI",
        "outputId": "10192d6e-f791-4d6c-88b9-f13f37446a6d"
      },
      "outputs": [
        {
          "data": {
            "text/plain": [
              "0    1\n",
              "1    0\n",
              "2    1\n",
              "3    0\n",
              "4    1\n",
              "Name: Outcome, dtype: int64"
            ]
          },
          "execution_count": 69,
          "metadata": {},
          "output_type": "execute_result"
        }
      ],
      "source": [
        "y_df.head()"
      ]
    },
    {
      "cell_type": "markdown",
      "metadata": {
        "id": "hTiHZnCzW1PO"
      },
      "source": [
        "To begin, let's build models on a subset of `X` (say 2 features). This will make visualization easier. We can subset the feature data frame by a list of columns, in this case, \"Glucose and \"Age\"."
      ]
    },
    {
      "cell_type": "code",
      "execution_count": null,
      "metadata": {
        "id": "C_rq_xgrWz_C"
      },
      "outputs": [],
      "source": [
        "X_subset_df = X_df[['Glucose', 'Age']]"
      ]
    },
    {
      "cell_type": "markdown",
      "metadata": {
        "id": "2Lnnb0aqXSdi"
      },
      "source": [
        "Here we build a simple function to visualize a 2D dataset and color the points by the outcome label. The function takes in 3 variables; the features (X_df), the labels (y), and the plot title (title) which is set to \"Data in 2D\" by default. The function returns the fi"
      ]
    },
    {
      "cell_type": "code",
      "execution_count": null,
      "metadata": {
        "id": "Rs0Wtk3SXo_9"
      },
      "outputs": [],
      "source": [
        "def visualize_2d(X_df,y, title=\"Data in 2D\"):\n",
        "  X = X_df.to_numpy()\n",
        "  fig, ax = plt.subplots(figsize=(10,10))\n",
        "  sns.scatterplot(x=X[:,0],y=X[:,1],hue=y,ax=ax);\n",
        "  ax.set_title(title)\n",
        "  ax.set_xlabel(\"x1\")\n",
        "  ax.set_ylabel(\"x2\")\n",
        "  plt.close()\n",
        "  fig.show()\n",
        "  return fig, ax"
      ]
    },
    {
      "cell_type": "markdown",
      "metadata": {
        "id": "fSYlQViYvzn1"
      },
      "source": [
        "By setting the feature and label dataframes to our subset of data, we can visualize the relationship between Glucose on the x-axis with age on the y-axis."
      ]
    },
    {
      "cell_type": "code",
      "execution_count": null,
      "metadata": {
        "colab": {
          "base_uri": "https://localhost:8080/",
          "height": 627
        },
        "id": "fIOVhlV4XEa2",
        "outputId": "12740201-da86-4ef1-91ad-76b936f4d6ef"
      },
      "outputs": [
        {
          "data": {
            "image/png": "[encoded data removed]",
            "text/plain": [
              "<Figure size 720x720 with 1 Axes>"
            ]
          },
          "execution_count": 72,
          "metadata": {},
          "output_type": "execute_result"
        }
      ],
      "source": [
        "fig, ax = visualize_2d(X_subset_df, y_df);\n",
        "fig"
      ]
    },
    {
      "cell_type": "markdown",
      "metadata": {
        "id": "sRUHVivDCw_g"
      },
      "source": [
        "There seems to be a relationship between these 2 vairables and diabetes, where it seems more likely that increasing age and glucose levels are associated with diabetes"
      ]
    },
    {
      "cell_type": "markdown",
      "metadata": {
        "id": "m1pA-xyvCgKk"
      },
      "source": [
        "## Part 2: Logistic Regression"
      ]
    },
    {
      "cell_type": "markdown",
      "metadata": {
        "id": "8nXjM50EX-LK"
      },
      "source": [
        "Let's fit a **Logistic Regression** model on this 2d data. Logistic Regression is a basic **classification model** that uses a logistic function to model a binary dependent variable. Sklearn's documentation for Logistic Regression can be found here: https://scikit-learn.org/stable/modules/generated/sklearn.linear_model.LogisticRegression.html\n",
        "\n",
        "There is a number of ML classifiers in sklearn. They differ based on the particular algorithm each classifier employs to train the feature weights, but can be trained in a standard way. Firse we define a model object, then use the fit() methods with our feature and label dataframes."
      ]
    },
    {
      "cell_type": "code",
      "execution_count": null,
      "metadata": {
        "cellView": "code",
        "colab": {
          "base_uri": "https://localhost:8080/"
        },
        "id": "R0y8_W6EX7NU",
        "outputId": "76fa9aad-ef66-4f24-ba2e-8957cecbabc5"
      },
      "outputs": [
        {
          "data": {
            "text/plain": [
              "LogisticRegression()"
            ]
          },
          "execution_count": 73,
          "metadata": {},
          "output_type": "execute_result"
        }
      ],
      "source": [
        "#@title\n",
        "lr_model = LogisticRegression()\n",
        "lr_model.fit(X_subset_df, y_df)"
      ]
    },
    {
      "cell_type": "markdown",
      "metadata": {
        "id": "XMIzeE4VZ6kZ"
      },
      "source": [
        "One of the outputs of the model is a decision function. A simple way of thinking of this function is as an equation that predicts the outcome from the input variables. In this case, we have 2 input variables, so the decision function can be visualized as a line. If a new patient's glucose and age inputs fall above this line, the prediction is that they have diabeties.\n",
        "\n",
        "Here, we define a funtion to visualize the decision boundary of the 2-d model by plotting the decision boundary on the same plot as our datapoints."
      ]
    },
    {
      "cell_type": "code",
      "execution_count": null,
      "metadata": {
        "cellView": "code",
        "id": "CRXHV1oiZ99G"
      },
      "outputs": [],
      "source": [
        "#@title\n",
        "def plot_decision_boundary(model, ax=None):\n",
        "  xlim = ax.get_xlim()\n",
        "  ylim = ax.get_ylim()\n",
        "\n",
        "  # create grid to evaluate model\n",
        "  x = np.linspace(xlim[0], xlim[1], 30)\n",
        "  y = np.linspace(ylim[0], ylim[1], 30)\n",
        "  Y, X = np.meshgrid(y, x)\n",
        "  xy = np.vstack([X.ravel(), Y.ravel()]).T\n",
        "  P = model.decision_function(xy).reshape(X.shape)\n",
        "\n",
        "  # plot decision boundary\n",
        "  ax.contour(X, Y, P, colors='k',\n",
        "            levels=[0], alpha=0.5,\n",
        "            linestyles=['-'])\n",
        "  ax.set_xlim(xlim)\n",
        "  ax.set_ylim(ylim)"
      ]
    },
    {
      "cell_type": "markdown",
      "metadata": {
        "id": "bJtOHt85DUaO"
      },
      "source": [
        "Now we can plot the dicision boundary of our 2D regression model."
      ]
    },
    {
      "cell_type": "code",
      "execution_count": null,
      "metadata": {
        "cellView": "code",
        "colab": {
          "base_uri": "https://localhost:8080/"
        },
        "id": "s4RNxEFiaDVs",
        "outputId": "ed19fb95-224e-4665-fc24-16ce7f7ac79a"
      },
      "outputs": [
        {
          "name": "stderr",
          "output_type": "stream",
          "text": [
            "/usr/local/lib/python3.7/dist-packages/sklearn/base.py:451: UserWarning: X does not have valid feature names, but LogisticRegression was fitted with feature names\n",
            "  \"X does not have valid feature names, but\"\n"
          ]
        },
        {
          "data": {
            "image/png": "[encoded data removed]",
            "text/plain": [
              "<Figure size 720x720 with 1 Axes>"
            ]
          },
          "execution_count": 75,
          "metadata": {},
          "output_type": "execute_result"
        }
      ],
      "source": [
        "#@title\n",
        "plot_decision_boundary(lr_model,ax)\n",
        "fig"
      ]
    },
    {
      "cell_type": "markdown",
      "metadata": {
        "id": "UI9ah4E_aL1a"
      },
      "source": [
        "We can see that the model does an OK job separating out those with diabetes from those without. However there are a number of cases that fall on the \"wrong\" side of the line, which would result in a false positive or false negative prediction.\n",
        "\n",
        "Question: what is this decision boundry in Logistic Regression?\n",
        "\n",
        "Answer: The model decision function for 2 variable is: y = w1\\*x1 + w2\\*x2 + c, which defines a line. The coeficients w1 and w2, and intercetp can be extracted using methods provided with the mode."
      ]
    },
    {
      "cell_type": "code",
      "execution_count": null,
      "metadata": {
        "cellView": "code",
        "colab": {
          "base_uri": "https://localhost:8080/"
        },
        "id": "ZrY8a4wyaMZO",
        "outputId": "f4b11321-d31c-4813-9abd-0dafad779b6f"
      },
      "outputs": [
        {
          "data": {
            "text/plain": [
              "array([[0.03836118, 0.02419256]])"
            ]
          },
          "execution_count": 76,
          "metadata": {},
          "output_type": "execute_result"
        }
      ],
      "source": [
        "#@title\n",
        "lr_model.coef_"
      ]
    },
    {
      "cell_type": "code",
      "execution_count": null,
      "metadata": {
        "cellView": "code",
        "colab": {
          "base_uri": "https://localhost:8080/"
        },
        "id": "rp6hnlocaS45",
        "outputId": "b84cd2d1-0a95-4fb6-aef8-9ccaf580b19b"
      },
      "outputs": [
        {
          "data": {
            "text/plain": [
              "array([-6.24675179])"
            ]
          },
          "execution_count": 77,
          "metadata": {},
          "output_type": "execute_result"
        }
      ],
      "source": [
        "#@title\n",
        "lr_model.intercept_"
      ]
    },
    {
      "cell_type": "markdown",
      "metadata": {
        "id": "jc_Vq2jZaWoH"
      },
      "source": [
        "## Part 3: Train and Test Sets: Splitting Data"
      ]
    },
    {
      "cell_type": "markdown",
      "metadata": {
        "id": "FsS270vviqaz"
      },
      "source": [
        "A machine learning model aims to make good predictions on new, previously unseen data. But if you are building a model from your data set, how would you get the previously unseen data? Well, one way is to divide your data set into two subsets:\n",
        "\n",
        "* **training set** — a subset to train a model.\n",
        "* **test set** — a subset to test the model.\n",
        "\n",
        "Good performance on the test set is a useful indicator of good performance on the new data in general, assuming that:\n",
        "\n",
        "* The test set is large enough.\n",
        "* You don't cheat by using the same test set over and over.\n",
        "\n",
        "\n"
      ]
    },
    {
      "cell_type": "markdown",
      "metadata": {
        "id": "9nNbLHbFjQn_"
      },
      "source": [
        "![image.png](data:image/png;base64,iVBORw0KGgoAAAANSUhEUgAAA3EAAACbCAYAAADMQxI1AAALyElEQVR4nO3dv4sjyR3G4fvbFHbkQOHRsVKj2CiyEyWOhCMncuZAGByOI0eNwQcOmnNiMI1x3HBwh+2jHBylLWm6R9JoxO5X9XzgSfZmpNlZUN2rn18lSZIkSVKYvvrcP4AkSZIk6fqMOEmSJEkKlBEnSZIkSYEy4iRJkiQpUEacJEmSJAXKiJMkSZKkQBlxkiRJkhQoI06SJEmSAmXESZIkSVKgjDhJkiRJCpQRJ0mSJEmBMuIkSZIkKVBGnCRJkiQFyoiTJEmSpEAZcZIkSZIUKCNOkiRJkgJlxEmSJElSoIw4SZIkSQqUESdJkiRJgbp5xPX/+jH94vffAwAAH6z/y2/T93/5GYH95x+/fsRuO+nmEffnb/+XFr/8DgAA+GB/+9PP03d//IrAfvjm60fstpOMOAAA+EIYcfEZcQAAUBEjLj4jDgAAKmLExWfEAQBARYy4+Iw4AACoiBEXnxEHAAAVMeLiM+IAAKAiRlx8RhwAAFTEiIvPiAMAgIoYcfEZcQAAUBEjLj4jDgAAKmLExWfEAQBARYy4+Iw4AACoiBEXnxEHAAAVMeLiM+IAAKAiRlx8RhwAAFTEiIvPiAMAgIoYcfEZcQAAUBEjLj4jDgAAKmLExWfEAQBARYy4+Iw4AACoiBEXnxEHAAAVMeLiM+IAAKAiRlx8RhwAAFTEiIvPiAMAgIoYcfEZcQAAUBEjLj4jDgAAKmLExWfEAQBARYy4+Iw4AACoiBEXnxEHAAAVMeLiM+IAAKAiRlx8RhwAAFTEiIvPiAMAgIoYcfEZcQAAUBEjLj4jDgAAKmLExWfEAQBARYy4+Iw4AACoiBEXnxEHAAAVMeLiM+IAAKAiRlx8RhwAAFTEiIvPiAMAgIoYcfEZcQAAUBEjLj4jDgAAKmLExWfEAQBARYy4+Iw4AACoiBEXnxEHAAAVMeLiM+IAAKAiRlx8RhwAAFTEiIvPiAMAgIoYcfEZcQAAUBEjLj4jDgAAKmLExWfEAQBARYy4+Iw4AACoiBEXnxEHAAAVMeLiM+IAAKAiRlx8RhwAAFTEiIvPiAMAgIoYcfEZcQAAUBEjLj4jDgAAKmLExWfEAQBARYy4+Iw4AACoiBEXnxEHAAAVMeLiM+IAAKAiRlx8RhwAAFTEiIvPiAMAgIoYcfEZcQAAUBEjLj4jDgAAKmLExWfEAQBARYy4+Iw4AACoiBEXnxEHAAAVMeLiM+IAAKAiRlx8RhwAAFTEiIvPiAMAgIoYcfEZcQAAUBEjLj4jDgAAKmLExWfEAQBARYy4+Iw4AACoiBEXnxEHAAAVMeLiM+IAAKAiRlx8RhwAAFTEiIvPiAMAgIoYcfEZcQAAUBEjLj4jDgAAKmLExWfEAQBARYy4+L7IEff3f/+YfvWHHwAAgA/27V9/l3745msC++8/f/OI3XbSzSNOkiRJkvT5MuIkSZIkKVBGnCRJkiQFyoiTJEmSpEAZcZIkSZIUKCNOkiRJkgJlxEmSJElSoIw4SZIkSQqUESdJkiRJgTLiJEmSJClQRpwkSZIkBcqIkyRJkqRAGXGS9MENw5Capklt237I5bVtm5qmScMwfMjlSZKk2Blxkp6mxWJxs91u9+E/Ry0jru/7tF6vU9M0abFYpOVymTabTer7PvV9/5DfrSTpp1ar1c1n3mq1+tw/9knOkfdnxEl6ioZhSIvFIu33+5M/3+12kwdX13WpbVsHxDs7HA5psVikzWZzHJfDMBx/3x8xkMdx9O8jSTPlwTOO4/HPuq473gaXDcOQ1uv1Q0fcdru96eudI/dlxEl6irqumzxA5kZcSsm9fO9sHMfUNM3s/wzkg/ne3+1ut/PvI0kzTT3bY27EpfTTbfdms3nIz5LPhVu/3jny/ow4SU9R13Wp67pXf/7WiEvp9nsOdd3hutls7jo48wH/rIevJN3b1O3jWyMupcedefmsvTbnyP0ZcZKeuksjTrd3ze/05eXl3QfnOI6pbduHvWZRkp61SyPuEeVBdst1Okfuz4iT9NRdc1Dk5+Avl8vUdV3q+z4tl8vUNE16eXk5uazlcnk8rNq2Pfnvua7r0mazmXxNQnk94zim7XZ7fEH31D2kwzAcv6Z8pPE9l5XSp6fTlH+PW9/spe/749eu1+uT12OU1zN1OfnP8/U3TZO22+3xMoZhmP3Zph5plSR96toRd+m2uPy6fJ7ls3S73R5v38vXr93yBirOkfsz4iQ9dZdGXNd1ab1eH2/gD4fD8d0gy+/LX5MPgPKQKA+F7XZ7vPevPETPr+fl5eXkMMzXVx5Y+/3+5Hvy9bznslL6dM9kOQi7rrs4/KYq3xWtaZp0OBwufk++/v1+n8ZxPPmfg/PXduR/t2e9B1WSHtE1I+6W2+K2bU/ePOVwOEw+RfE9j/45R+7LiJP01F37dMp8mLRtezwYdrvd8W2Opy5j7oB46xDNA2+1Wp3c85ifjjL1c87dg3jrZeWD7vygzH+P5XL55u+obBzHV29vnR8VnGu1Wk2+qD6P4fLnevbDV5Ie0TUj7trb4nz2nd+uT71ZyHtGnHPkvow4SU/drSNu6p7A/OLo9Xo9edm3jLh8PeeHVP6IhKnvmRtxt17W3Nff8xqKfK/s+dNozj/Tbu5/Bsqfq/w3evbDV5Ie0aXb81tui/NlTT2r4yNGXM458r6MOElP3a0j7prny5evU5u67PeMuJTmD8FbR9zcZeWvP38dX/55b3kkriwf6OUBfP4avv1+P/n6hPN7YHPPfvhK0iO6NOJuuS3Od2AuFj+9bu18VJXdM+LydTlHbsuIk/TUfeSIG4bh+KYg+/0+bbfbUCMu/y7On4ry8vIy+ee3lj9MtjyA89M883Vf+6LyZz98JekRXRpxt94W5zf6ypdZfjB32b0jLuccuT4jTtJT91EjbuozbeYu+0sdceX37Pf7lNJPB2bbtsfXAl7T3Gfy5cq3m87Xk39XU+/mOdWzH76S9IiuHXHX3han9OlRsvIpj+cvPbh1xDlH7s+Ik/TUfcSIy4fi3GviIo24vu+Poy3fy1m+89g1dV138VA8/3yeuUcBy2p6QbokPaJrR9y1t8Vl+aNs8uWXj8i9Z8Q5R+7LiJP01H3EiJs7CKKNuPz6hrde13BNXdddfP1cPujzPajlZwJN/bx93598xMGzH76S9IiufWOTa26Lu66bfNQrv9Nx+f3vGXHOkfsy4iQ9dde+ff7cm36Ul1E+EjeO4/F5+3nE5UezvtQRV37EQH4qS9d1N4+6/Pebuzd0HMfjh6WXj/Dln7dpmuNn/OTLOx+X5/e4juOY+r6/6eeUpNoqz5+52/Zrb4u7rnv12Wspfbp9Lm+Tz6/z0uvWnCP3Z8RJetrKD+R+6/Vu5det1+tXTy0sD8X1en38QO98L2F+SmIegOU7aJUHxjAMsx+sXX5P+XOW9zzmeyPfe1nl02CmLJfLqz5stfx9rFark+Gbn67ZNM2rQdz3/au3kZ57fUV+s5WmadJ2u331WXiSpNPKOxffegTq2tvifFu/Wq2OZ1k+L8+fgVJ+bul2u7346Jdz5P6MOElP2fkHiJbKYXP+lsZzg698UXd+DVkeUsvl8njQTF1v/mDUqetJKU3++Wq1mvyeuT+/dFm5fPhm+eAtXbqnMj/FZhiGtN/vT/7OedDO3QM8jmPabDbH32XbtrMvUs+jc7lcPtW9p5L00c2dC3Nj7prb4vxIXHlONE2TdrvdqzFUvovl+R2LUzlH7s+Ik6RKOhwOJ4/mnZfvxX3rayRJ0ufPiJOkCspPXbnUdrt9unsrJUl6tow4Saqg/FSVt17z1nXdq49RkCRJX15GnCRVUPnBqcvl8vjC86xt28k3dZEkSV9eRpwkVdIwDGmz2Zy8Y2fTNGm9Xl98O2hJkvTlZMRJkiRJUqCMOEmSJEkKlBEnSZIkSYEy4iRJkiQpUEacJEmSJAXKiJMkSZKkQBlxkiRJkhQoI06SJEmSAmXESZIkSVKgjDhJkiRJCpQRJ0mSJEmBMuIkSZIkKVBGnCRJkiQF6v91zcKWwa/lLAAAAABJRU5ErkJggg==)"
      ]
    },
    {
      "cell_type": "markdown",
      "metadata": {
        "id": "Dl__3uTUjl7I"
      },
      "source": [
        "**Never train on test data**. If you are seeing surprisingly good results on your evaluation metrics, it might be a sign that you are accidentally training on the test set. For example, high accuracy might indicate that test data has leaked into the training set"
      ]
    },
    {
      "cell_type": "markdown",
      "metadata": {
        "id": "2wLvt3tLjo9b"
      },
      "source": [
        "The sklearn library provides the function `train_test_split` to split your data into train and test sets. The train_test_split() funtion will take the input features (X_df) and associated labels (y_df) and return a randomized split of the data. The size of the test set is defined as a percentage of this entire set by the \"test_size\" variable. I this case, we split 20% of our dataset into the test set, and will train on the remaining 80% of the data."
      ]
    },
    {
      "cell_type": "code",
      "execution_count": null,
      "metadata": {
        "id": "pDsWcOwMaapP"
      },
      "outputs": [],
      "source": [
        "X_train, X_test, y_train, y_test = train_test_split(X_df, y_df, test_size=0.2, random_state=2)"
      ]
    },
    {
      "cell_type": "markdown",
      "metadata": {
        "id": "RUGTzyjTEzZm"
      },
      "source": [
        "And we can verify the size of our training and test sets using the shape and head methods."
      ]
    },
    {
      "cell_type": "code",
      "execution_count": null,
      "metadata": {
        "colab": {
          "base_uri": "https://localhost:8080/"
        },
        "id": "9h4BxBgLj1BB",
        "outputId": "ccc22ede-05c2-4164-aeb5-488fe9dcd394"
      },
      "outputs": [
        {
          "data": {
            "text/plain": [
              "((614, 8), (154, 8), (614,), (154,))"
            ]
          },
          "execution_count": 112,
          "metadata": {},
          "output_type": "execute_result"
        }
      ],
      "source": [
        "X_train.shape, X_test.shape, y_train.shape, y_test.shape"
      ]
    },
    {
      "cell_type": "code",
      "execution_count": null,
      "metadata": {
        "colab": {
          "base_uri": "https://localhost:8080/",
          "height": 206
        },
        "id": "kq0Gi7L7j1qR",
        "outputId": "b9a28ff4-6617-4eb0-cc91-51a493d0c61b"
      },
      "outputs": [
        {
          "data": {
            "text/html": [
              "\n",
              "  <div id=\"df-a705888c-1c99-455c-9b49-09cfb6583cae\">\n",
              "    <div class=\"colab-df-container\">\n",
              "      <div>\n",
              "<style scoped>\n",
              "    .dataframe tbody tr th:only-of-type {\n",
              "        vertical-align: middle;\n",
              "    }\n",
              "\n",
              "    .dataframe tbody tr th {\n",
              "        vertical-align: top;\n",
              "    }\n",
              "\n",
              "    .dataframe thead th {\n",
              "        text-align: right;\n",
              "    }\n",
              "</style>\n",
              "<table border=\"1\" class=\"dataframe\">\n",
              "  <thead>\n",
              "    <tr style=\"text-align: right;\">\n",
              "      <th></th>\n",
              "      <th>Pregnancies</th>\n",
              "      <th>Glucose</th>\n",
              "      <th>BloodPressure</th>\n",
              "      <th>SkinThickness</th>\n",
              "      <th>Insulin</th>\n",
              "      <th>BMI</th>\n",
              "      <th>DiabetesPedigreeFunction</th>\n",
              "      <th>Age</th>\n",
              "    </tr>\n",
              "  </thead>\n",
              "  <tbody>\n",
              "    <tr>\n",
              "      <th>602</th>\n",
              "      <td>1</td>\n",
              "      <td>124.0</td>\n",
              "      <td>74.0</td>\n",
              "      <td>36.0</td>\n",
              "      <td>125.0</td>\n",
              "      <td>27.8</td>\n",
              "      <td>0.100</td>\n",
              "      <td>30</td>\n",
              "    </tr>\n",
              "    <tr>\n",
              "      <th>429</th>\n",
              "      <td>1</td>\n",
              "      <td>95.0</td>\n",
              "      <td>82.0</td>\n",
              "      <td>25.0</td>\n",
              "      <td>180.0</td>\n",
              "      <td>35.0</td>\n",
              "      <td>0.233</td>\n",
              "      <td>43</td>\n",
              "    </tr>\n",
              "    <tr>\n",
              "      <th>623</th>\n",
              "      <td>0</td>\n",
              "      <td>94.0</td>\n",
              "      <td>70.0</td>\n",
              "      <td>27.0</td>\n",
              "      <td>115.0</td>\n",
              "      <td>43.5</td>\n",
              "      <td>0.347</td>\n",
              "      <td>21</td>\n",
              "    </tr>\n",
              "    <tr>\n",
              "      <th>209</th>\n",
              "      <td>7</td>\n",
              "      <td>184.0</td>\n",
              "      <td>84.0</td>\n",
              "      <td>33.0</td>\n",
              "      <td>125.0</td>\n",
              "      <td>35.5</td>\n",
              "      <td>0.355</td>\n",
              "      <td>41</td>\n",
              "    </tr>\n",
              "    <tr>\n",
              "      <th>589</th>\n",
              "      <td>0</td>\n",
              "      <td>73.0</td>\n",
              "      <td>72.0</td>\n",
              "      <td>29.0</td>\n",
              "      <td>125.0</td>\n",
              "      <td>21.1</td>\n",
              "      <td>0.342</td>\n",
              "      <td>25</td>\n",
              "    </tr>\n",
              "  </tbody>\n",
              "</table>\n",
              "</div>\n",
              "      <button class=\"colab-df-convert\" onclick=\"convertToInteractive('df-a705888c-1c99-455c-9b49-09cfb6583cae')\"\n",
              "              title=\"Convert this dataframe to an interactive table.\"\n",
              "              style=\"display:none;\">\n",
              "        \n",
              "  <svg xmlns=\"http://www.w3.org/2000/svg\" height=\"24px\"viewBox=\"0 0 24 24\"\n",
              "       width=\"24px\">\n",
              "    <path d=\"M0 0h24v24H0V0z\" fill=\"none\"/>\n",
              "    <path d=\"M18.56 5.44l.94 2.06.94-2.06 2.06-.94-2.06-.94-.94-2.06-.94 2.06-2.06.94zm-11 1L8.5 8.5l.94-2.06 2.06-.94-2.06-.94L8.5 2.5l-.94 2.06-2.06.94zm10 10l.94 2.06.94-2.06 2.06-.94-2.06-.94-.94-2.06-.94 2.06-2.06.94z\"/><path d=\"M17.41 7.96l-1.37-1.37c-.4-.4-.92-.59-1.43-.59-.52 0-1.04.2-1.43.59L10.3 9.45l-7.72 7.72c-.78.78-.78 2.05 0 2.83L4 21.41c.39.39.9.59 1.41.59.51 0 1.02-.2 1.41-.59l7.78-7.78 2.81-2.81c.8-.78.8-2.07 0-2.86zM5.41 20L4 18.59l7.72-7.72 1.47 1.35L5.41 20z\"/>\n",
              "  </svg>\n",
              "      </button>\n",
              "      \n",
              "  <style>\n",
              "    .colab-df-container {\n",
              "      display:flex;\n",
              "      flex-wrap:wrap;\n",
              "      gap: 12px;\n",
              "    }\n",
              "\n",
              "    .colab-df-convert {\n",
              "      background-color: #E8F0FE;\n",
              "      border: none;\n",
              "      border-radius: 50%;\n",
              "      cursor: pointer;\n",
              "      display: none;\n",
              "      fill: #1967D2;\n",
              "      height: 32px;\n",
              "      padding: 0 0 0 0;\n",
              "      width: 32px;\n",
              "    }\n",
              "\n",
              "    .colab-df-convert:hover {\n",
              "      background-color: #E2EBFA;\n",
              "      box-shadow: 0px 1px 2px rgba(60, 64, 67, 0.3), 0px 1px 3px 1px rgba(60, 64, 67, 0.15);\n",
              "      fill: #174EA6;\n",
              "    }\n",
              "\n",
              "    [theme=dark] .colab-df-convert {\n",
              "      background-color: #3B4455;\n",
              "      fill: #D2E3FC;\n",
              "    }\n",
              "\n",
              "    [theme=dark] .colab-df-convert:hover {\n",
              "      background-color: #434B5C;\n",
              "      box-shadow: 0px 1px 3px 1px rgba(0, 0, 0, 0.15);\n",
              "      filter: drop-shadow(0px 1px 2px rgba(0, 0, 0, 0.3));\n",
              "      fill: #FFFFFF;\n",
              "    }\n",
              "  </style>\n",
              "\n",
              "      <script>\n",
              "        const buttonEl =\n",
              "          document.querySelector('#df-a705888c-1c99-455c-9b49-09cfb6583cae button.colab-df-convert');\n",
              "        buttonEl.style.display =\n",
              "          google.colab.kernel.accessAllowed ? 'block' : 'none';\n",
              "\n",
              "        async function convertToInteractive(key) {\n",
              "          const element = document.querySelector('#df-a705888c-1c99-455c-9b49-09cfb6583cae');\n",
              "          const dataTable =\n",
              "            await google.colab.kernel.invokeFunction('convertToInteractive',\n",
              "                                                     [key], {});\n",
              "          if (!dataTable) return;\n",
              "\n",
              "          const docLinkHtml = 'Like what you see? Visit the ' +\n",
              "            '<a target=\"_blank\" href=https://colab.research.google.com/notebooks/data_table.ipynb>data table notebook</a>'\n",
              "            + ' to learn more about interactive tables.';\n",
              "          element.innerHTML = '';\n",
              "          dataTable['output_type'] = 'display_data';\n",
              "          await google.colab.output.renderOutput(dataTable, element);\n",
              "          const docLink = document.createElement('div');\n",
              "          docLink.innerHTML = docLinkHtml;\n",
              "          element.appendChild(docLink);\n",
              "        }\n",
              "      </script>\n",
              "    </div>\n",
              "  </div>\n",
              "  "
            ],
            "text/plain": [
              "     Pregnancies  Glucose  BloodPressure  SkinThickness  Insulin   BMI  \\\n",
              "602            1    124.0           74.0           36.0    125.0  27.8   \n",
              "429            1     95.0           82.0           25.0    180.0  35.0   \n",
              "623            0     94.0           70.0           27.0    115.0  43.5   \n",
              "209            7    184.0           84.0           33.0    125.0  35.5   \n",
              "589            0     73.0           72.0           29.0    125.0  21.1   \n",
              "\n",
              "     DiabetesPedigreeFunction  Age  \n",
              "602                     0.100   30  \n",
              "429                     0.233   43  \n",
              "623                     0.347   21  \n",
              "209                     0.355   41  \n",
              "589                     0.342   25  "
            ]
          },
          "execution_count": 113,
          "metadata": {},
          "output_type": "execute_result"
        }
      ],
      "source": [
        "X_train.head()"
      ]
    },
    {
      "cell_type": "code",
      "execution_count": null,
      "metadata": {
        "colab": {
          "base_uri": "https://localhost:8080/"
        },
        "id": "n7dVGzTij8Hu",
        "outputId": "694f0260-1ac3-4618-80ec-af5ee6bdecd5"
      },
      "outputs": [
        {
          "data": {
            "text/plain": [
              "602    0\n",
              "429    1\n",
              "623    0\n",
              "209    1\n",
              "589    0\n",
              "Name: Outcome, dtype: int64"
            ]
          },
          "execution_count": 114,
          "metadata": {},
          "output_type": "execute_result"
        }
      ],
      "source": [
        "y_train.head()"
      ]
    },
    {
      "cell_type": "code",
      "execution_count": null,
      "metadata": {
        "colab": {
          "base_uri": "https://localhost:8080/",
          "height": 206
        },
        "id": "Ce63ajgPj5j_",
        "outputId": "9e3d8f14-34ef-4a1c-c55d-755d001d8d77"
      },
      "outputs": [
        {
          "data": {
            "text/html": [
              "\n",
              "  <div id=\"df-d1d44247-2bc1-4c63-a367-9f2509083648\">\n",
              "    <div class=\"colab-df-container\">\n",
              "      <div>\n",
              "<style scoped>\n",
              "    .dataframe tbody tr th:only-of-type {\n",
              "        vertical-align: middle;\n",
              "    }\n",
              "\n",
              "    .dataframe tbody tr th {\n",
              "        vertical-align: top;\n",
              "    }\n",
              "\n",
              "    .dataframe thead th {\n",
              "        text-align: right;\n",
              "    }\n",
              "</style>\n",
              "<table border=\"1\" class=\"dataframe\">\n",
              "  <thead>\n",
              "    <tr style=\"text-align: right;\">\n",
              "      <th></th>\n",
              "      <th>Pregnancies</th>\n",
              "      <th>Glucose</th>\n",
              "      <th>BloodPressure</th>\n",
              "      <th>SkinThickness</th>\n",
              "      <th>Insulin</th>\n",
              "      <th>BMI</th>\n",
              "      <th>DiabetesPedigreeFunction</th>\n",
              "      <th>Age</th>\n",
              "    </tr>\n",
              "  </thead>\n",
              "  <tbody>\n",
              "    <tr>\n",
              "      <th>158</th>\n",
              "      <td>2</td>\n",
              "      <td>88.0</td>\n",
              "      <td>74.0</td>\n",
              "      <td>19.0</td>\n",
              "      <td>53.0</td>\n",
              "      <td>29.0</td>\n",
              "      <td>0.229</td>\n",
              "      <td>22</td>\n",
              "    </tr>\n",
              "    <tr>\n",
              "      <th>251</th>\n",
              "      <td>2</td>\n",
              "      <td>129.0</td>\n",
              "      <td>84.0</td>\n",
              "      <td>29.0</td>\n",
              "      <td>125.0</td>\n",
              "      <td>28.0</td>\n",
              "      <td>0.284</td>\n",
              "      <td>27</td>\n",
              "    </tr>\n",
              "    <tr>\n",
              "      <th>631</th>\n",
              "      <td>0</td>\n",
              "      <td>102.0</td>\n",
              "      <td>78.0</td>\n",
              "      <td>40.0</td>\n",
              "      <td>90.0</td>\n",
              "      <td>34.5</td>\n",
              "      <td>0.238</td>\n",
              "      <td>24</td>\n",
              "    </tr>\n",
              "    <tr>\n",
              "      <th>757</th>\n",
              "      <td>0</td>\n",
              "      <td>123.0</td>\n",
              "      <td>72.0</td>\n",
              "      <td>29.0</td>\n",
              "      <td>125.0</td>\n",
              "      <td>36.3</td>\n",
              "      <td>0.258</td>\n",
              "      <td>52</td>\n",
              "    </tr>\n",
              "    <tr>\n",
              "      <th>689</th>\n",
              "      <td>1</td>\n",
              "      <td>144.0</td>\n",
              "      <td>82.0</td>\n",
              "      <td>46.0</td>\n",
              "      <td>180.0</td>\n",
              "      <td>46.1</td>\n",
              "      <td>0.335</td>\n",
              "      <td>46</td>\n",
              "    </tr>\n",
              "  </tbody>\n",
              "</table>\n",
              "</div>\n",
              "      <button class=\"colab-df-convert\" onclick=\"convertToInteractive('df-d1d44247-2bc1-4c63-a367-9f2509083648')\"\n",
              "              title=\"Convert this dataframe to an interactive table.\"\n",
              "              style=\"display:none;\">\n",
              "        \n",
              "  <svg xmlns=\"http://www.w3.org/2000/svg\" height=\"24px\"viewBox=\"0 0 24 24\"\n",
              "       width=\"24px\">\n",
              "    <path d=\"M0 0h24v24H0V0z\" fill=\"none\"/>\n",
              "    <path d=\"M18.56 5.44l.94 2.06.94-2.06 2.06-.94-2.06-.94-.94-2.06-.94 2.06-2.06.94zm-11 1L8.5 8.5l.94-2.06 2.06-.94-2.06-.94L8.5 2.5l-.94 2.06-2.06.94zm10 10l.94 2.06.94-2.06 2.06-.94-2.06-.94-.94-2.06-.94 2.06-2.06.94z\"/><path d=\"M17.41 7.96l-1.37-1.37c-.4-.4-.92-.59-1.43-.59-.52 0-1.04.2-1.43.59L10.3 9.45l-7.72 7.72c-.78.78-.78 2.05 0 2.83L4 21.41c.39.39.9.59 1.41.59.51 0 1.02-.2 1.41-.59l7.78-7.78 2.81-2.81c.8-.78.8-2.07 0-2.86zM5.41 20L4 18.59l7.72-7.72 1.47 1.35L5.41 20z\"/>\n",
              "  </svg>\n",
              "      </button>\n",
              "      \n",
              "  <style>\n",
              "    .colab-df-container {\n",
              "      display:flex;\n",
              "      flex-wrap:wrap;\n",
              "      gap: 12px;\n",
              "    }\n",
              "\n",
              "    .colab-df-convert {\n",
              "      background-color: #E8F0FE;\n",
              "      border: none;\n",
              "      border-radius: 50%;\n",
              "      cursor: pointer;\n",
              "      display: none;\n",
              "      fill: #1967D2;\n",
              "      height: 32px;\n",
              "      padding: 0 0 0 0;\n",
              "      width: 32px;\n",
              "    }\n",
              "\n",
              "    .colab-df-convert:hover {\n",
              "      background-color: #E2EBFA;\n",
              "      box-shadow: 0px 1px 2px rgba(60, 64, 67, 0.3), 0px 1px 3px 1px rgba(60, 64, 67, 0.15);\n",
              "      fill: #174EA6;\n",
              "    }\n",
              "\n",
              "    [theme=dark] .colab-df-convert {\n",
              "      background-color: #3B4455;\n",
              "      fill: #D2E3FC;\n",
              "    }\n",
              "\n",
              "    [theme=dark] .colab-df-convert:hover {\n",
              "      background-color: #434B5C;\n",
              "      box-shadow: 0px 1px 3px 1px rgba(0, 0, 0, 0.15);\n",
              "      filter: drop-shadow(0px 1px 2px rgba(0, 0, 0, 0.3));\n",
              "      fill: #FFFFFF;\n",
              "    }\n",
              "  </style>\n",
              "\n",
              "      <script>\n",
              "        const buttonEl =\n",
              "          document.querySelector('#df-d1d44247-2bc1-4c63-a367-9f2509083648 button.colab-df-convert');\n",
              "        buttonEl.style.display =\n",
              "          google.colab.kernel.accessAllowed ? 'block' : 'none';\n",
              "\n",
              "        async function convertToInteractive(key) {\n",
              "          const element = document.querySelector('#df-d1d44247-2bc1-4c63-a367-9f2509083648');\n",
              "          const dataTable =\n",
              "            await google.colab.kernel.invokeFunction('convertToInteractive',\n",
              "                                                     [key], {});\n",
              "          if (!dataTable) return;\n",
              "\n",
              "          const docLinkHtml = 'Like what you see? Visit the ' +\n",
              "            '<a target=\"_blank\" href=https://colab.research.google.com/notebooks/data_table.ipynb>data table notebook</a>'\n",
              "            + ' to learn more about interactive tables.';\n",
              "          element.innerHTML = '';\n",
              "          dataTable['output_type'] = 'display_data';\n",
              "          await google.colab.output.renderOutput(dataTable, element);\n",
              "          const docLink = document.createElement('div');\n",
              "          docLink.innerHTML = docLinkHtml;\n",
              "          element.appendChild(docLink);\n",
              "        }\n",
              "      </script>\n",
              "    </div>\n",
              "  </div>\n",
              "  "
            ],
            "text/plain": [
              "     Pregnancies  Glucose  BloodPressure  SkinThickness  Insulin   BMI  \\\n",
              "158            2     88.0           74.0           19.0     53.0  29.0   \n",
              "251            2    129.0           84.0           29.0    125.0  28.0   \n",
              "631            0    102.0           78.0           40.0     90.0  34.5   \n",
              "757            0    123.0           72.0           29.0    125.0  36.3   \n",
              "689            1    144.0           82.0           46.0    180.0  46.1   \n",
              "\n",
              "     DiabetesPedigreeFunction  Age  \n",
              "158                     0.229   22  \n",
              "251                     0.284   27  \n",
              "631                     0.238   24  \n",
              "757                     0.258   52  \n",
              "689                     0.335   46  "
            ]
          },
          "execution_count": 115,
          "metadata": {},
          "output_type": "execute_result"
        }
      ],
      "source": [
        "X_test.head()"
      ]
    },
    {
      "cell_type": "code",
      "execution_count": null,
      "metadata": {
        "colab": {
          "base_uri": "https://localhost:8080/"
        },
        "id": "lG5r9muFj-b4",
        "outputId": "ab7aa6b6-84ab-4939-c439-319054cffb4c"
      },
      "outputs": [
        {
          "data": {
            "text/plain": [
              "158    0\n",
              "251    0\n",
              "631    0\n",
              "757    1\n",
              "689    1\n",
              "Name: Outcome, dtype: int64"
            ]
          },
          "execution_count": 116,
          "metadata": {},
          "output_type": "execute_result"
        }
      ],
      "source": [
        "y_test.head()"
      ]
    },
    {
      "cell_type": "markdown",
      "metadata": {
        "id": "bUUt0Ku0FDPJ"
      },
      "source": [
        "We can see how many of each class we have using the Counter() funtion. The training dataset has 223 diabetes patients and the test set has 45."
      ]
    },
    {
      "cell_type": "code",
      "execution_count": null,
      "metadata": {
        "colab": {
          "base_uri": "https://localhost:8080/"
        },
        "id": "3Fbyd16tkZUn",
        "outputId": "ea092095-e863-4c19-d84c-c2b2b5db9232"
      },
      "outputs": [
        {
          "data": {
            "text/plain": [
              "(Counter({0: 391, 1: 223}), Counter({0: 109, 1: 45}))"
            ]
          },
          "execution_count": 117,
          "metadata": {},
          "output_type": "execute_result"
        }
      ],
      "source": [
        "Counter(y_train), Counter(y_test)"
      ]
    },
    {
      "cell_type": "markdown",
      "metadata": {
        "id": "r_DbxJy1kMmT"
      },
      "source": [
        "## Part 4: Train and Test Classification Models"
      ]
    },
    {
      "cell_type": "markdown",
      "metadata": {
        "id": "LF3JGgtukRY1"
      },
      "source": [
        "In this step we train a model on the data and generate predictions. To make predictions we use the scikit-learn function \"predict\" and that takes as input, data in the same format as the training set.\n",
        "\n",
        "Here, we will train the ML model on all 8 features and not just 2\n"
      ]
    },
    {
      "cell_type": "markdown",
      "metadata": {
        "id": "seo-RoYVkfuC"
      },
      "source": [
        "Fit/train a model on the training dataset by first defining an sklearn model object, and then calling the fit() method with our training dataset."
      ]
    },
    {
      "cell_type": "code",
      "execution_count": null,
      "metadata": {
        "colab": {
          "base_uri": "https://localhost:8080/"
        },
        "id": "s1japyYNkAL8",
        "outputId": "663eb86e-8298-49e6-b1a6-bee350e51455"
      },
      "outputs": [
        {
          "data": {
            "text/plain": [
              "LogisticRegression(max_iter=500)"
            ]
          },
          "execution_count": 85,
          "metadata": {},
          "output_type": "execute_result"
        }
      ],
      "source": [
        "#Fit the model\n",
        "model = LogisticRegression(max_iter=500)\n",
        "model.fit(X_train, y_train)"
      ]
    },
    {
      "cell_type": "markdown",
      "metadata": {
        "id": "oCWz3-dIkder"
      },
      "source": [
        "We can use the predict() method on the trained model to generate predictions on the test set."
      ]
    },
    {
      "cell_type": "code",
      "execution_count": null,
      "metadata": {
        "colab": {
          "base_uri": "https://localhost:8080/"
        },
        "id": "oa25BA9jkb9J",
        "outputId": "01c6a9e7-0b6f-41ed-f12b-aefca44ab28b"
      },
      "outputs": [
        {
          "data": {
            "text/plain": [
              "array([0, 0, 0, 0, 1, 0, 0, 0, 0, 1, 0, 0, 1, 0, 0, 1, 1, 0, 0, 1, 1, 1,\n",
              "       0, 1, 0, 0, 1, 0, 0, 0, 0, 0, 0, 0, 0, 1, 0, 1, 0, 0, 0, 0, 0, 0,\n",
              "       0, 0, 0, 0, 0, 0, 1, 0, 0, 1, 0, 0, 1, 0, 0, 0, 0, 1, 1, 1, 0, 1,\n",
              "       1, 0, 0, 0, 0, 0, 0, 0, 0, 1, 0, 0, 0, 0, 0, 0, 0, 0, 1, 0, 0, 0,\n",
              "       0, 1, 0, 0, 0, 0, 0, 1, 0, 1, 1, 0, 0, 1, 0, 0, 0, 0, 1, 0, 0, 0,\n",
              "       0, 0, 0, 0, 0, 1, 0, 0, 0, 0, 1, 0, 0, 0, 0, 1, 0, 0, 0, 0, 1, 0,\n",
              "       0, 0, 1, 1, 0, 0, 0, 1, 0, 1, 0, 0, 0, 0, 0, 0, 0, 0, 0, 0, 1, 0])"
            ]
          },
          "execution_count": 86,
          "metadata": {},
          "output_type": "execute_result"
        }
      ],
      "source": [
        "#Generate Predictions\n",
        "y_pred = model.predict(X_test)\n",
        "y_pred"
      ]
    },
    {
      "cell_type": "markdown",
      "metadata": {
        "id": "JNlPx-ACklBR"
      },
      "source": [
        "Every ML classifier outputs a set of numbers for each data point that represents the **probabilty** of classifying that point as a zero (no diabetes) or 1 (diabetes). This data can be found by calling the predict_proba() method on the test set. The method returns an array for each patient in the test set, where the first entry is the probability of not having diabetes and the second is the probabiltiy of having diabetes. As we will see below, this is useful when appying different probability thresholds to making a prediction."
      ]
    },
    {
      "cell_type": "code",
      "execution_count": null,
      "metadata": {
        "colab": {
          "base_uri": "https://localhost:8080/"
        },
        "id": "Z9VOqlvHk1AM",
        "outputId": "359ff3ea-036e-4392-f33a-3311975d17c3"
      },
      "outputs": [
        {
          "data": {
            "text/plain": [
              "array([[0.95428815, 0.04571185],\n",
              "       [0.82696339, 0.17303661],\n",
              "       [0.89758266, 0.10241734],\n",
              "       [0.73831181, 0.26168819],\n",
              "       [0.29664539, 0.70335461],\n",
              "       [0.88833155, 0.11166845],\n",
              "       [0.93950256, 0.06049744],\n",
              "       [0.57319335, 0.42680665],\n",
              "       [0.95804485, 0.04195515],\n",
              "       [0.41432601, 0.58567399],\n",
              "       [0.68770126, 0.31229874],\n",
              "       [0.59810889, 0.40189111],\n",
              "       [0.30005392, 0.69994608],\n",
              "       [0.77818658, 0.22181342],\n",
              "       [0.98393013, 0.01606987],\n",
              "       [0.15974153, 0.84025847],\n",
              "       [0.13268252, 0.86731748],\n",
              "       [0.97453857, 0.02546143],\n",
              "       [0.74237737, 0.25762263],\n",
              "       [0.09226233, 0.90773767],\n",
              "       [0.04006317, 0.95993683],\n",
              "       [0.32126626, 0.67873374],\n",
              "       [0.88624462, 0.11375538],\n",
              "       [0.4667254 , 0.5332746 ],\n",
              "       [0.93084563, 0.06915437],\n",
              "       [0.94057901, 0.05942099],\n",
              "       [0.28970806, 0.71029194],\n",
              "       [0.54050161, 0.45949839],\n",
              "       [0.81121831, 0.18878169],\n",
              "       [0.68842253, 0.31157747],\n",
              "       [0.76259713, 0.23740287],\n",
              "       [0.53104001, 0.46895999],\n",
              "       [0.94811214, 0.05188786],\n",
              "       [0.7771321 , 0.2228679 ],\n",
              "       [0.66669231, 0.33330769],\n",
              "       [0.03944888, 0.96055112],\n",
              "       [0.6407587 , 0.3592413 ],\n",
              "       [0.19325637, 0.80674363],\n",
              "       [0.6960977 , 0.3039023 ],\n",
              "       [0.95244419, 0.04755581],\n",
              "       [0.82407027, 0.17592973],\n",
              "       [0.90954977, 0.09045023],\n",
              "       [0.79707679, 0.20292321],\n",
              "       [0.812944  , 0.187056  ],\n",
              "       [0.97283222, 0.02716778],\n",
              "       [0.9662106 , 0.0337894 ],\n",
              "       [0.73524705, 0.26475295],\n",
              "       [0.60285429, 0.39714571],\n",
              "       [0.88713986, 0.11286014],\n",
              "       [0.64035421, 0.35964579],\n",
              "       [0.00430662, 0.99569338],\n",
              "       [0.89890708, 0.10109292],\n",
              "       [0.6399156 , 0.3600844 ],\n",
              "       [0.21749563, 0.78250437],\n",
              "       [0.66607391, 0.33392609],\n",
              "       [0.51102682, 0.48897318],\n",
              "       [0.04149595, 0.95850405],\n",
              "       [0.57208825, 0.42791175],\n",
              "       [0.59058757, 0.40941243],\n",
              "       [0.96208499, 0.03791501],\n",
              "       [0.61172875, 0.38827125],\n",
              "       [0.08181754, 0.91818246],\n",
              "       [0.10187525, 0.89812475],\n",
              "       [0.10417118, 0.89582882],\n",
              "       [0.69229163, 0.30770837],\n",
              "       [0.44517566, 0.55482434],\n",
              "       [0.05006335, 0.94993665],\n",
              "       [0.93236912, 0.06763088],\n",
              "       [0.75447928, 0.24552072],\n",
              "       [0.64297407, 0.35702593],\n",
              "       [0.90319014, 0.09680986],\n",
              "       [0.92224244, 0.07775756],\n",
              "       [0.54331594, 0.45668406],\n",
              "       [0.91545911, 0.08454089],\n",
              "       [0.91996467, 0.08003533],\n",
              "       [0.49098236, 0.50901764],\n",
              "       [0.62996238, 0.37003762],\n",
              "       [0.94011367, 0.05988633],\n",
              "       [0.83398382, 0.16601618],\n",
              "       [0.91062692, 0.08937308],\n",
              "       [0.95780588, 0.04219412],\n",
              "       [0.79251013, 0.20748987],\n",
              "       [0.92527025, 0.07472975],\n",
              "       [0.76884327, 0.23115673],\n",
              "       [0.31120843, 0.68879157],\n",
              "       [0.67063199, 0.32936801],\n",
              "       [0.91844024, 0.08155976],\n",
              "       [0.88616005, 0.11383995],\n",
              "       [0.77744043, 0.22255957],\n",
              "       [0.42430273, 0.57569727],\n",
              "       [0.877038  , 0.122962  ],\n",
              "       [0.71934985, 0.28065015],\n",
              "       [0.76134611, 0.23865389],\n",
              "       [0.96377081, 0.03622919],\n",
              "       [0.8169527 , 0.1830473 ],\n",
              "       [0.2318011 , 0.7681989 ],\n",
              "       [0.68458911, 0.31541089],\n",
              "       [0.37447074, 0.62552926],\n",
              "       [0.31230813, 0.68769187],\n",
              "       [0.95783514, 0.04216486],\n",
              "       [0.51648258, 0.48351742],\n",
              "       [0.38577047, 0.61422953],\n",
              "       [0.89538215, 0.10461785],\n",
              "       [0.93559852, 0.06440148],\n",
              "       [0.84310311, 0.15689689],\n",
              "       [0.9202417 , 0.0797583 ],\n",
              "       [0.052842  , 0.947158  ],\n",
              "       [0.85292272, 0.14707728],\n",
              "       [0.91154033, 0.08845967],\n",
              "       [0.88962733, 0.11037267],\n",
              "       [0.97158977, 0.02841023],\n",
              "       [0.73248918, 0.26751082],\n",
              "       [0.57767615, 0.42232385],\n",
              "       [0.94039842, 0.05960158],\n",
              "       [0.69571543, 0.30428457],\n",
              "       [0.24323646, 0.75676354],\n",
              "       [0.62070221, 0.37929779],\n",
              "       [0.77872906, 0.22127094],\n",
              "       [0.88901079, 0.11098921],\n",
              "       [0.91707101, 0.08292899],\n",
              "       [0.39685643, 0.60314357],\n",
              "       [0.68650377, 0.31349623],\n",
              "       [0.89323194, 0.10676806],\n",
              "       [0.87336272, 0.12663728],\n",
              "       [0.72478395, 0.27521605],\n",
              "       [0.10173478, 0.89826522],\n",
              "       [0.90264771, 0.09735229],\n",
              "       [0.53588663, 0.46411337],\n",
              "       [0.61629704, 0.38370296],\n",
              "       [0.52303415, 0.47696585],\n",
              "       [0.36110041, 0.63889959],\n",
              "       [0.74798704, 0.25201296],\n",
              "       [0.50786171, 0.49213829],\n",
              "       [0.96639341, 0.03360659],\n",
              "       [0.30541445, 0.69458555],\n",
              "       [0.29872678, 0.70127322],\n",
              "       [0.6870343 , 0.3129657 ],\n",
              "       [0.68247691, 0.31752309],\n",
              "       [0.84683293, 0.15316707],\n",
              "       [0.4736918 , 0.5263082 ],\n",
              "       [0.88233958, 0.11766042],\n",
              "       [0.20628378, 0.79371622],\n",
              "       [0.84156904, 0.15843096],\n",
              "       [0.67294556, 0.32705444],\n",
              "       [0.780143  , 0.219857  ],\n",
              "       [0.81102924, 0.18897076],\n",
              "       [0.96592219, 0.03407781],\n",
              "       [0.50265695, 0.49734305],\n",
              "       [0.96864342, 0.03135658],\n",
              "       [0.88332767, 0.11667233],\n",
              "       [0.92862979, 0.07137021],\n",
              "       [0.77289573, 0.22710427],\n",
              "       [0.28090611, 0.71909389],\n",
              "       [0.98573111, 0.01426889]])"
            ]
          },
          "execution_count": 87,
          "metadata": {},
          "output_type": "execute_result"
        }
      ],
      "source": [
        "y_pred_prob = model.predict_proba(X_test)\n",
        "y_pred_prob"
      ]
    },
    {
      "cell_type": "markdown",
      "metadata": {
        "id": "QD424OxqGy--"
      },
      "source": [
        "We can plot the probability of having diabeties as a histogram to visualize the prediction results."
      ]
    },
    {
      "cell_type": "code",
      "execution_count": null,
      "metadata": {
        "colab": {
          "base_uri": "https://localhost:8080/",
          "height": 683
        },
        "id": "PpmUeyXYk6pv",
        "outputId": "63ecb508-0327-42c2-e8e3-d521789eadc9"
      },
      "outputs": [
        {
          "data": {
            "text/plain": [
              "(array([44., 20., 20., 20., 13.,  6.,  9.,  8.,  4., 10.]),\n",
              " array([0.01426889, 0.11241134, 0.21055379, 0.30869624, 0.40683869,\n",
              "        0.50498114, 0.60312358, 0.70126603, 0.79940848, 0.89755093,\n",
              "        0.99569338]),\n",
              " <a list of 10 Patch objects>)"
            ]
          },
          "execution_count": 88,
          "metadata": {},
          "output_type": "execute_result"
        },
        {
          "data": {
            "image/png": "[encoded data removed]",
            "text/plain": [
              "<Figure size 720x720 with 1 Axes>"
            ]
          },
          "metadata": {},
          "output_type": "display_data"
        }
      ],
      "source": [
        "plt.hist(y_pred_prob[:,1])"
      ]
    },
    {
      "cell_type": "markdown",
      "metadata": {
        "id": "GLuVCTvmlQau"
      },
      "source": [
        "## Part 5: Evaluation of the Classification Model"
      ]
    },
    {
      "cell_type": "markdown",
      "metadata": {
        "id": "qxXun1w2ldtR"
      },
      "source": [
        "After training the classification model on the training set and generating predictions on the test set, we would like to quality of the predictions i.e. the performance of the trained classification model on new test set. This is done using standard classification evaluation metrics such as **accuracy, precision and recall**. These require the list of predictions of your model and the actual labels/outcomes (ground truths)"
      ]
    },
    {
      "cell_type": "markdown",
      "metadata": {
        "id": "8odn1O87mvrj"
      },
      "source": [
        "### Confusion Matrix"
      ]
    },
    {
      "cell_type": "markdown",
      "metadata": {
        "id": "uqecZho4m01S"
      },
      "source": [
        "We calculate the confusion matrix to evaluate performance of our model. We then review and caclulate the different metrics.\n",
        "\n",
        "A confusion matrix is a cross-tabulation that shows the correct class (or label) for each datapoint that was tested, along with the predicted class. You can use this 2-way table to determine if your model is making Type 1 (False Positve) or Type 2 (False Negative) errors."
      ]
    },
    {
      "cell_type": "code",
      "execution_count": null,
      "metadata": {
        "id": "bohAqAAGmG91"
      },
      "outputs": [],
      "source": [
        "cm = confusion_matrix(y_test, y_pred)"
      ]
    },
    {
      "cell_type": "code",
      "execution_count": null,
      "metadata": {
        "colab": {
          "base_uri": "https://localhost:8080/"
        },
        "id": "Jf_jrN2um6dy",
        "outputId": "d161700c-4ca6-4ccd-aa98-a2ad5dc661b3"
      },
      "outputs": [
        {
          "data": {
            "text/plain": [
              "array([[95, 14],\n",
              "       [22, 23]])"
            ]
          },
          "execution_count": 90,
          "metadata": {},
          "output_type": "execute_result"
        }
      ],
      "source": [
        "cm"
      ]
    },
    {
      "cell_type": "markdown",
      "metadata": {
        "id": "rFrDqqTFHEqR"
      },
      "source": [
        "A confusion matriz is a way to visualize how many predictions were correct. That is, the predicted diagnosis on the test set matched the prediction. We can see that 95 patients were correctly predicted to not have diabetes and 23 patients were correctly predicted to have diabetes. However, there were 14 patients where the model predicted them to have diabetes when they did not, and 22 patients that had diabetes were incorrecly diagnosed as being health."
      ]
    },
    {
      "cell_type": "code",
      "execution_count": null,
      "metadata": {
        "colab": {
          "base_uri": "https://localhost:8080/"
        },
        "id": "dzNpgq8tm7WS",
        "outputId": "9fd4a865-02cd-42c1-8a93-fb9c371de506"
      },
      "outputs": [
        {
          "data": {
            "text/plain": [
              "(<Figure size 720x720 with 1 Axes>,\n",
              " <matplotlib.axes._subplots.AxesSubplot at 0x7f3a737347d0>)"
            ]
          },
          "execution_count": 91,
          "metadata": {},
          "output_type": "execute_result"
        },
        {
          "data": {
            "image/png": "[encoded data removed]",
            "text/plain": [
              "<Figure size 720x720 with 1 Axes>"
            ]
          },
          "metadata": {},
          "output_type": "display_data"
        }
      ],
      "source": [
        "plot_confusion_matrix(conf_mat=cm, show_absolute=True)"
      ]
    },
    {
      "cell_type": "markdown",
      "metadata": {
        "id": "2enMaOUSnDho"
      },
      "source": [
        "### Types of Errors"
      ]
    },
    {
      "cell_type": "markdown",
      "metadata": {
        "id": "PpA-oR0PnJMe"
      },
      "source": [
        "When making a prediction for a two-class classification problem, the following types of prediction vs actual can be made by a classifier:\n",
        "\n",
        "* **False Positive (FP):** predict an event when there was no event.\n",
        "* **False Negative (FN):** predict no event when in fact there was an event.\n",
        "* **True Positive (TP):** predict an event when there was an event.\n",
        "* **True Negative (TN):** predict no event when in fact there was no event.\n",
        "\n",
        "Remember\n",
        "\n",
        "* Type I Error  = False Positive  (Predicted 1, Actual 0)\n",
        "* Type II Error = False Negative: (Predicted 0, Actual 1)"
      ]
    },
    {
      "cell_type": "code",
      "execution_count": null,
      "metadata": {
        "colab": {
          "base_uri": "https://localhost:8080/"
        },
        "id": "Cwcw0S0pnKBD",
        "outputId": "569db605-466d-4af8-c732-cfa6d46f33e8"
      },
      "outputs": [
        {
          "data": {
            "text/plain": [
              "(95, 14, 22, 23)"
            ]
          },
          "execution_count": 92,
          "metadata": {},
          "output_type": "execute_result"
        }
      ],
      "source": [
        "#We use the confusion matrix function to extract the different types of errors\n",
        "tn, fp, fn, tp = confusion_matrix(y_test, y_pred).ravel()\n",
        "tn, fp, fn, tp"
      ]
    },
    {
      "cell_type": "markdown",
      "metadata": {
        "id": "pqkHHwfRnUOw"
      },
      "source": [
        "### Compute different evaluation metrics"
      ]
    },
    {
      "cell_type": "markdown",
      "metadata": {
        "id": "BspzDPjQnYP8"
      },
      "source": [
        "We can quantify error in different ways to get a sense of how well the model is performing. In this section we will  use builtin scikit-learn scoring functions and the types of errors derived from the confusion matrix functions to evaluate our classification model."
      ]
    },
    {
      "cell_type": "code",
      "execution_count": null,
      "metadata": {
        "colab": {
          "base_uri": "https://localhost:8080/"
        },
        "id": "kFaxWtwLnX5y",
        "outputId": "b1097b07-fdd6-46ec-dfbd-c4f28258db5d"
      },
      "outputs": [
        {
          "name": "stdout",
          "output_type": "stream",
          "text": [
            "Accuracy: 0.766\n",
            "Recall: 0.511\n",
            "Precision: 0.622\n",
            "Specificity: 0.872\n",
            "F1: 0.561\n"
          ]
        }
      ],
      "source": [
        "#Accuracy\n",
        "accuracy = (tp+tn)/(tp+tn+fp+fn)\n",
        "print('Accuracy: %.3f' % accuracy)\n",
        "\n",
        "#Recall/Sensitivity/True Positive rate\n",
        "recall = sensitivity = tpr = tp / (tp + fn)\n",
        "print('Recall: %.3f' % recall)\n",
        "\n",
        "#Precision\n",
        "precision = tp / (tp + fp)\n",
        "print('Precision: %.3f' % precision)\n",
        "\n",
        "#Specificity/Negative Recall/ True negative Rate/ 1-False Positive Rate\n",
        "specificity = tn / (tn + fp)\n",
        "print('Specificity: %.3f' % specificity)\n",
        "\n",
        "#F1 Score\n",
        "f1 = 2*(precision*recall)/(precision+recall)\n",
        "print('F1: %.3f' % f1)"
      ]
    },
    {
      "cell_type": "code",
      "execution_count": null,
      "metadata": {
        "colab": {
          "base_uri": "https://localhost:8080/"
        },
        "id": "smpysDpNnpnl",
        "outputId": "7147c3d2-766e-4161-8df1-196e67f5efdd"
      },
      "outputs": [
        {
          "name": "stdout",
          "output_type": "stream",
          "text": [
            "Accuracy: 0.766\n",
            "Recall: 0.511\n",
            "Precision: 0.622\n",
            "F1: 0.561\n"
          ]
        }
      ],
      "source": [
        "#Accuracy\n",
        "accuracy = accuracy_score(y_test, y_pred)\n",
        "print('Accuracy: %.3f' % accuracy)\n",
        "\n",
        "#Recall\n",
        "recall = recall_score(y_test, y_pred)\n",
        "print('Recall: %.3f' % recall)\n",
        "\n",
        "#Precision\n",
        "precision = precision_score(y_test, y_pred)\n",
        "print('Precision: %.3f' % precision)\n",
        "\n",
        "#The f1-score is the harmonic mean of precision and recall\n",
        "f1 = f1_score(y_test, y_pred)\n",
        "print('F1: %.3f' % f1)"
      ]
    },
    {
      "cell_type": "markdown",
      "metadata": {
        "id": "U9Y4dxGH092E"
      },
      "source": [
        "Helper function that take actual labels and predictions as input and prints the classification metrics. Same as before just encapsulated in a function so that we can call it with different inputs"
      ]
    },
    {
      "cell_type": "code",
      "execution_count": null,
      "metadata": {
        "id": "321uiGeY072X"
      },
      "outputs": [],
      "source": [
        "#Function that calculates and print metrics\n",
        "def show_metrics(y_test, y_pred):\n",
        "  print('====================')\n",
        "  accuracy = accuracy_score(y_test, y_pred)\n",
        "  print('Accuracy: %.3f' % accuracy)\n",
        "  recall = recall_score(y_test, y_pred)\n",
        "  print('Recall: %.3f' % recall)\n",
        "  precision = precision_score(y_test, y_pred)\n",
        "  print('Precision: %.3f' % precision)\n",
        "  f1 = f1_score(y_test, y_pred)\n",
        "  print('F1: %.3f' % f1)\n",
        "  print('====================')"
      ]
    },
    {
      "cell_type": "code",
      "execution_count": null,
      "metadata": {
        "colab": {
          "base_uri": "https://localhost:8080/"
        },
        "id": "qNYBS6Pw1JbL",
        "outputId": "1de8c7fe-ef02-4dd2-83c9-ee11d889ddbd"
      },
      "outputs": [
        {
          "name": "stdout",
          "output_type": "stream",
          "text": [
            "====================\n",
            "Accuracy: 0.766\n",
            "Recall: 0.511\n",
            "Precision: 0.622\n",
            "F1: 0.561\n",
            "====================\n"
          ]
        }
      ],
      "source": [
        "show_metrics(y_test, y_pred)"
      ]
    },
    {
      "cell_type": "markdown",
      "metadata": {
        "id": "VIYIdOkC1MsD"
      },
      "source": [
        "**Metrics with different threshold**"
      ]
    },
    {
      "cell_type": "markdown",
      "metadata": {
        "id": "qMobT3wLH_IZ"
      },
      "source": [
        "We can use the prediction probablility to alter the threshold where a predicion is made. Initially, we can use a threshold of 50% (threshold=0.5) to predict a diabetes diagnosis when the prediction probability is greater than 50%."
      ]
    },
    {
      "cell_type": "code",
      "execution_count": null,
      "metadata": {
        "id": "Q_QMq6va1QFa"
      },
      "outputs": [],
      "source": [
        "#Function that returns predictions at a specific threshold\n",
        "def get_predictions(y_pred_prob, threshold=0.5):\n",
        "  predictions = np.where(y_pred_prob <= threshold, 0, 1)\n",
        "  return predictions[:,1]"
      ]
    },
    {
      "cell_type": "markdown",
      "metadata": {
        "id": "-Ld6d4MY1bhJ"
      },
      "source": [
        "**Increase the threshold**\n",
        "\n",
        "We can be more strict, and apply a higher prediction threshold. When we increase the threshold to 70% there is a change in the model performance. The number of false positives decreases, but false negatives increase. As a result, precision increases, while recall decreases:"
      ]
    },
    {
      "cell_type": "code",
      "execution_count": null,
      "metadata": {
        "colab": {
          "base_uri": "https://localhost:8080/"
        },
        "id": "BoX4QoEu1aRl",
        "outputId": "a446d264-6341-4f3e-c38e-3cfb1c86aa9e"
      },
      "outputs": [
        {
          "name": "stdout",
          "output_type": "stream",
          "text": [
            "====================\n",
            "Accuracy: 0.786\n",
            "Recall: 0.378\n",
            "Precision: 0.773\n",
            "F1: 0.507\n",
            "====================\n"
          ]
        }
      ],
      "source": [
        "y_pred1 = get_predictions(y_pred_prob, 0.7)\n",
        "show_metrics(y_test, y_pred1)"
      ]
    },
    {
      "cell_type": "markdown",
      "metadata": {
        "id": "uEtxJF_a2U8U"
      },
      "source": [
        "**Decrease the threshold**\n",
        "Similarly, a decrease in the threshold also changes the performance. False positives increase, and false negatives decrease. As a result, this time, precision decreases and recall increases:\n"
      ]
    },
    {
      "cell_type": "code",
      "execution_count": null,
      "metadata": {
        "colab": {
          "base_uri": "https://localhost:8080/"
        },
        "id": "FfhODtXt2ele",
        "outputId": "d9fd7172-c217-434d-954b-bd62d9d20162"
      },
      "outputs": [
        {
          "name": "stdout",
          "output_type": "stream",
          "text": [
            "====================\n",
            "Accuracy: 0.675\n",
            "Recall: 0.756\n",
            "Precision: 0.466\n",
            "F1: 0.576\n",
            "====================\n"
          ]
        }
      ],
      "source": [
        "y_pred2 = get_predictions(y_pred_prob, 0.3)\n",
        "show_metrics(y_test, y_pred2)"
      ]
    },
    {
      "cell_type": "markdown",
      "metadata": {
        "id": "sVqmTOlWn_PP"
      },
      "source": [
        "#### Threshold independent Metric: **AUC-ROC**"
      ]
    },
    {
      "cell_type": "markdown",
      "metadata": {
        "id": "C-iTgIZJoRV_"
      },
      "source": [
        "An ROC curve (receiver operating characteristic curve) is a graph showing the performance of a classification model at all classification thresholds. This curve plots two parameters:\n",
        "\n",
        "* True Positive Rate\n",
        "* False Positive Rate\n"
      ]
    },
    {
      "cell_type": "markdown",
      "metadata": {
        "id": "NVINxPMOoYlv"
      },
      "source": [
        "An ROC curve plots TPR vs. FPR at different classification thresholds. Lowering the classification threshold classifies more items as positive, thus increasing both False Positives and True Positives. The following figure shows a typical ROC curve.\n",
        "\n",
        "![image.png](data:image/png;base64,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)"
      ]
    },
    {
      "cell_type": "code",
      "execution_count": null,
      "metadata": {
        "colab": {
          "base_uri": "https://localhost:8080/"
        },
        "id": "cO3gQILJnr_U",
        "outputId": "88e219e7-9000-4004-8582-637a3cfbe159"
      },
      "outputs": [
        {
          "name": "stdout",
          "output_type": "stream",
          "text": [
            "AUCROC: 0.805\n"
          ]
        }
      ],
      "source": [
        "#AUROC = Area Under the Receiver Operating Characteristic curve\n",
        "roc_auc = roc_auc_score(y_test, y_pred_prob[:,1])\n",
        "print('AUCROC: %.3f' % roc_auc)"
      ]
    },
    {
      "cell_type": "markdown",
      "metadata": {
        "id": "7wOOM6cIpGlx"
      },
      "source": [
        "Generate FPR and TPR at different thresholds using the `roc_curve` function"
      ]
    },
    {
      "cell_type": "code",
      "execution_count": null,
      "metadata": {
        "id": "KfaVA2XhpDuB"
      },
      "outputs": [],
      "source": [
        "fpr, tpr, thresholds = roc_curve(y_test, y_pred_prob[:,1])"
      ]
    },
    {
      "cell_type": "code",
      "execution_count": null,
      "metadata": {
        "colab": {
          "base_uri": "https://localhost:8080/"
        },
        "id": "B4ZgrSmFpOp8",
        "outputId": "2d80f042-c0d1-4b28-a375-9fa888cdc4d2"
      },
      "outputs": [
        {
          "data": {
            "text/plain": [
              "((154,), (44,))"
            ]
          },
          "execution_count": 102,
          "metadata": {},
          "output_type": "execute_result"
        }
      ],
      "source": [
        "y_test.shape, thresholds.shape"
      ]
    },
    {
      "cell_type": "markdown",
      "metadata": {
        "id": "aENFufv2pUK4"
      },
      "source": [
        "DataFrame showing three columns: FPR, TPR and Threshold. This represents different values of FPR and TPR at different thresholds"
      ]
    },
    {
      "cell_type": "code",
      "execution_count": null,
      "metadata": {
        "colab": {
          "base_uri": "https://localhost:8080/",
          "height": 1000
        },
        "id": "koTHNphepSDM",
        "outputId": "673ccad5-0158-46d8-a636-a544dd1f7e99"
      },
      "outputs": [
        {
          "data": {
            "text/html": [
              "\n",
              "  <div id=\"df-d449d3c2-d680-4960-9839-99228cb44064\">\n",
              "    <div class=\"colab-df-container\">\n",
              "      <div>\n",
              "<style scoped>\n",
              "    .dataframe tbody tr th:only-of-type {\n",
              "        vertical-align: middle;\n",
              "    }\n",
              "\n",
              "    .dataframe tbody tr th {\n",
              "        vertical-align: top;\n",
              "    }\n",
              "\n",
              "    .dataframe thead th {\n",
              "        text-align: right;\n",
              "    }\n",
              "</style>\n",
              "<table border=\"1\" class=\"dataframe\">\n",
              "  <thead>\n",
              "    <tr style=\"text-align: right;\">\n",
              "      <th></th>\n",
              "      <th>0</th>\n",
              "      <th>1</th>\n",
              "      <th>2</th>\n",
              "    </tr>\n",
              "  </thead>\n",
              "  <tbody>\n",
              "    <tr>\n",
              "      <th>0</th>\n",
              "      <td>0.000000</td>\n",
              "      <td>0.000000</td>\n",
              "      <td>1.995693</td>\n",
              "    </tr>\n",
              "    <tr>\n",
              "      <th>1</th>\n",
              "      <td>0.000000</td>\n",
              "      <td>0.022222</td>\n",
              "      <td>0.995693</td>\n",
              "    </tr>\n",
              "    <tr>\n",
              "      <th>2</th>\n",
              "      <td>0.000000</td>\n",
              "      <td>0.044444</td>\n",
              "      <td>0.960551</td>\n",
              "    </tr>\n",
              "    <tr>\n",
              "      <th>3</th>\n",
              "      <td>0.009174</td>\n",
              "      <td>0.044444</td>\n",
              "      <td>0.959937</td>\n",
              "    </tr>\n",
              "    <tr>\n",
              "      <th>4</th>\n",
              "      <td>0.009174</td>\n",
              "      <td>0.266667</td>\n",
              "      <td>0.840258</td>\n",
              "    </tr>\n",
              "    <tr>\n",
              "      <th>5</th>\n",
              "      <td>0.045872</td>\n",
              "      <td>0.266667</td>\n",
              "      <td>0.768199</td>\n",
              "    </tr>\n",
              "    <tr>\n",
              "      <th>6</th>\n",
              "      <td>0.045872</td>\n",
              "      <td>0.377778</td>\n",
              "      <td>0.701273</td>\n",
              "    </tr>\n",
              "    <tr>\n",
              "      <th>7</th>\n",
              "      <td>0.082569</td>\n",
              "      <td>0.377778</td>\n",
              "      <td>0.687692</td>\n",
              "    </tr>\n",
              "    <tr>\n",
              "      <th>8</th>\n",
              "      <td>0.082569</td>\n",
              "      <td>0.400000</td>\n",
              "      <td>0.678734</td>\n",
              "    </tr>\n",
              "    <tr>\n",
              "      <th>9</th>\n",
              "      <td>0.100917</td>\n",
              "      <td>0.400000</td>\n",
              "      <td>0.625529</td>\n",
              "    </tr>\n",
              "    <tr>\n",
              "      <th>10</th>\n",
              "      <td>0.100917</td>\n",
              "      <td>0.466667</td>\n",
              "      <td>0.585674</td>\n",
              "    </tr>\n",
              "    <tr>\n",
              "      <th>11</th>\n",
              "      <td>0.119266</td>\n",
              "      <td>0.466667</td>\n",
              "      <td>0.554824</td>\n",
              "    </tr>\n",
              "    <tr>\n",
              "      <th>12</th>\n",
              "      <td>0.119266</td>\n",
              "      <td>0.511111</td>\n",
              "      <td>0.526308</td>\n",
              "    </tr>\n",
              "    <tr>\n",
              "      <th>13</th>\n",
              "      <td>0.128440</td>\n",
              "      <td>0.511111</td>\n",
              "      <td>0.509018</td>\n",
              "    </tr>\n",
              "    <tr>\n",
              "      <th>14</th>\n",
              "      <td>0.128440</td>\n",
              "      <td>0.533333</td>\n",
              "      <td>0.497343</td>\n",
              "    </tr>\n",
              "    <tr>\n",
              "      <th>15</th>\n",
              "      <td>0.146789</td>\n",
              "      <td>0.533333</td>\n",
              "      <td>0.488973</td>\n",
              "    </tr>\n",
              "    <tr>\n",
              "      <th>16</th>\n",
              "      <td>0.146789</td>\n",
              "      <td>0.600000</td>\n",
              "      <td>0.468960</td>\n",
              "    </tr>\n",
              "    <tr>\n",
              "      <th>17</th>\n",
              "      <td>0.192661</td>\n",
              "      <td>0.600000</td>\n",
              "      <td>0.426807</td>\n",
              "    </tr>\n",
              "    <tr>\n",
              "      <th>18</th>\n",
              "      <td>0.192661</td>\n",
              "      <td>0.622222</td>\n",
              "      <td>0.422324</td>\n",
              "    </tr>\n",
              "    <tr>\n",
              "      <th>19</th>\n",
              "      <td>0.201835</td>\n",
              "      <td>0.622222</td>\n",
              "      <td>0.409412</td>\n",
              "    </tr>\n",
              "    <tr>\n",
              "      <th>20</th>\n",
              "      <td>0.201835</td>\n",
              "      <td>0.711111</td>\n",
              "      <td>0.383703</td>\n",
              "    </tr>\n",
              "    <tr>\n",
              "      <th>21</th>\n",
              "      <td>0.256881</td>\n",
              "      <td>0.711111</td>\n",
              "      <td>0.357026</td>\n",
              "    </tr>\n",
              "    <tr>\n",
              "      <th>22</th>\n",
              "      <td>0.256881</td>\n",
              "      <td>0.733333</td>\n",
              "      <td>0.333926</td>\n",
              "    </tr>\n",
              "    <tr>\n",
              "      <th>23</th>\n",
              "      <td>0.293578</td>\n",
              "      <td>0.733333</td>\n",
              "      <td>0.317523</td>\n",
              "    </tr>\n",
              "    <tr>\n",
              "      <th>24</th>\n",
              "      <td>0.293578</td>\n",
              "      <td>0.755556</td>\n",
              "      <td>0.315411</td>\n",
              "    </tr>\n",
              "    <tr>\n",
              "      <th>25</th>\n",
              "      <td>0.376147</td>\n",
              "      <td>0.755556</td>\n",
              "      <td>0.275216</td>\n",
              "    </tr>\n",
              "    <tr>\n",
              "      <th>26</th>\n",
              "      <td>0.376147</td>\n",
              "      <td>0.777778</td>\n",
              "      <td>0.267511</td>\n",
              "    </tr>\n",
              "    <tr>\n",
              "      <th>27</th>\n",
              "      <td>0.385321</td>\n",
              "      <td>0.777778</td>\n",
              "      <td>0.264753</td>\n",
              "    </tr>\n",
              "    <tr>\n",
              "      <th>28</th>\n",
              "      <td>0.385321</td>\n",
              "      <td>0.800000</td>\n",
              "      <td>0.261688</td>\n",
              "    </tr>\n",
              "    <tr>\n",
              "      <th>29</th>\n",
              "      <td>0.422018</td>\n",
              "      <td>0.800000</td>\n",
              "      <td>0.238654</td>\n",
              "    </tr>\n",
              "    <tr>\n",
              "      <th>30</th>\n",
              "      <td>0.422018</td>\n",
              "      <td>0.844444</td>\n",
              "      <td>0.231157</td>\n",
              "    </tr>\n",
              "    <tr>\n",
              "      <th>31</th>\n",
              "      <td>0.486239</td>\n",
              "      <td>0.844444</td>\n",
              "      <td>0.207490</td>\n",
              "    </tr>\n",
              "    <tr>\n",
              "      <th>32</th>\n",
              "      <td>0.486239</td>\n",
              "      <td>0.866667</td>\n",
              "      <td>0.202923</td>\n",
              "    </tr>\n",
              "    <tr>\n",
              "      <th>33</th>\n",
              "      <td>0.495413</td>\n",
              "      <td>0.866667</td>\n",
              "      <td>0.188971</td>\n",
              "    </tr>\n",
              "    <tr>\n",
              "      <th>34</th>\n",
              "      <td>0.495413</td>\n",
              "      <td>0.888889</td>\n",
              "      <td>0.188782</td>\n",
              "    </tr>\n",
              "    <tr>\n",
              "      <th>35</th>\n",
              "      <td>0.504587</td>\n",
              "      <td>0.888889</td>\n",
              "      <td>0.187056</td>\n",
              "    </tr>\n",
              "    <tr>\n",
              "      <th>36</th>\n",
              "      <td>0.504587</td>\n",
              "      <td>0.911111</td>\n",
              "      <td>0.183047</td>\n",
              "    </tr>\n",
              "    <tr>\n",
              "      <th>37</th>\n",
              "      <td>0.587156</td>\n",
              "      <td>0.911111</td>\n",
              "      <td>0.122962</td>\n",
              "    </tr>\n",
              "    <tr>\n",
              "      <th>38</th>\n",
              "      <td>0.587156</td>\n",
              "      <td>0.933333</td>\n",
              "      <td>0.117660</td>\n",
              "    </tr>\n",
              "    <tr>\n",
              "      <th>39</th>\n",
              "      <td>0.678899</td>\n",
              "      <td>0.933333</td>\n",
              "      <td>0.102417</td>\n",
              "    </tr>\n",
              "    <tr>\n",
              "      <th>40</th>\n",
              "      <td>0.678899</td>\n",
              "      <td>0.977778</td>\n",
              "      <td>0.097352</td>\n",
              "    </tr>\n",
              "    <tr>\n",
              "      <th>41</th>\n",
              "      <td>0.688073</td>\n",
              "      <td>0.977778</td>\n",
              "      <td>0.096810</td>\n",
              "    </tr>\n",
              "    <tr>\n",
              "      <th>42</th>\n",
              "      <td>0.688073</td>\n",
              "      <td>1.000000</td>\n",
              "      <td>0.090450</td>\n",
              "    </tr>\n",
              "    <tr>\n",
              "      <th>43</th>\n",
              "      <td>1.000000</td>\n",
              "      <td>1.000000</td>\n",
              "      <td>0.014269</td>\n",
              "    </tr>\n",
              "  </tbody>\n",
              "</table>\n",
              "</div>\n",
              "      <button class=\"colab-df-convert\" onclick=\"convertToInteractive('df-d449d3c2-d680-4960-9839-99228cb44064')\"\n",
              "              title=\"Convert this dataframe to an interactive table.\"\n",
              "              style=\"display:none;\">\n",
              "        \n",
              "  <svg xmlns=\"http://www.w3.org/2000/svg\" height=\"24px\"viewBox=\"0 0 24 24\"\n",
              "       width=\"24px\">\n",
              "    <path d=\"M0 0h24v24H0V0z\" fill=\"none\"/>\n",
              "    <path d=\"M18.56 5.44l.94 2.06.94-2.06 2.06-.94-2.06-.94-.94-2.06-.94 2.06-2.06.94zm-11 1L8.5 8.5l.94-2.06 2.06-.94-2.06-.94L8.5 2.5l-.94 2.06-2.06.94zm10 10l.94 2.06.94-2.06 2.06-.94-2.06-.94-.94-2.06-.94 2.06-2.06.94z\"/><path d=\"M17.41 7.96l-1.37-1.37c-.4-.4-.92-.59-1.43-.59-.52 0-1.04.2-1.43.59L10.3 9.45l-7.72 7.72c-.78.78-.78 2.05 0 2.83L4 21.41c.39.39.9.59 1.41.59.51 0 1.02-.2 1.41-.59l7.78-7.78 2.81-2.81c.8-.78.8-2.07 0-2.86zM5.41 20L4 18.59l7.72-7.72 1.47 1.35L5.41 20z\"/>\n",
              "  </svg>\n",
              "      </button>\n",
              "      \n",
              "  <style>\n",
              "    .colab-df-container {\n",
              "      display:flex;\n",
              "      flex-wrap:wrap;\n",
              "      gap: 12px;\n",
              "    }\n",
              "\n",
              "    .colab-df-convert {\n",
              "      background-color: #E8F0FE;\n",
              "      border: none;\n",
              "      border-radius: 50%;\n",
              "      cursor: pointer;\n",
              "      display: none;\n",
              "      fill: #1967D2;\n",
              "      height: 32px;\n",
              "      padding: 0 0 0 0;\n",
              "      width: 32px;\n",
              "    }\n",
              "\n",
              "    .colab-df-convert:hover {\n",
              "      background-color: #E2EBFA;\n",
              "      box-shadow: 0px 1px 2px rgba(60, 64, 67, 0.3), 0px 1px 3px 1px rgba(60, 64, 67, 0.15);\n",
              "      fill: #174EA6;\n",
              "    }\n",
              "\n",
              "    [theme=dark] .colab-df-convert {\n",
              "      background-color: #3B4455;\n",
              "      fill: #D2E3FC;\n",
              "    }\n",
              "\n",
              "    [theme=dark] .colab-df-convert:hover {\n",
              "      background-color: #434B5C;\n",
              "      box-shadow: 0px 1px 3px 1px rgba(0, 0, 0, 0.15);\n",
              "      filter: drop-shadow(0px 1px 2px rgba(0, 0, 0, 0.3));\n",
              "      fill: #FFFFFF;\n",
              "    }\n",
              "  </style>\n",
              "\n",
              "      <script>\n",
              "        const buttonEl =\n",
              "          document.querySelector('#df-d449d3c2-d680-4960-9839-99228cb44064 button.colab-df-convert');\n",
              "        buttonEl.style.display =\n",
              "          google.colab.kernel.accessAllowed ? 'block' : 'none';\n",
              "\n",
              "        async function convertToInteractive(key) {\n",
              "          const element = document.querySelector('#df-d449d3c2-d680-4960-9839-99228cb44064');\n",
              "          const dataTable =\n",
              "            await google.colab.kernel.invokeFunction('convertToInteractive',\n",
              "                                                     [key], {});\n",
              "          if (!dataTable) return;\n",
              "\n",
              "          const docLinkHtml = 'Like what you see? Visit the ' +\n",
              "            '<a target=\"_blank\" href=https://colab.research.google.com/notebooks/data_table.ipynb>data table notebook</a>'\n",
              "            + ' to learn more about interactive tables.';\n",
              "          element.innerHTML = '';\n",
              "          dataTable['output_type'] = 'display_data';\n",
              "          await google.colab.output.renderOutput(dataTable, element);\n",
              "          const docLink = document.createElement('div');\n",
              "          docLink.innerHTML = docLinkHtml;\n",
              "          element.appendChild(docLink);\n",
              "        }\n",
              "      </script>\n",
              "    </div>\n",
              "  </div>\n",
              "  "
            ],
            "text/plain": [
              "           0         1         2\n",
              "0   0.000000  0.000000  1.995693\n",
              "1   0.000000  0.022222  0.995693\n",
              "2   0.000000  0.044444  0.960551\n",
              "3   0.009174  0.044444  0.959937\n",
              "4   0.009174  0.266667  0.840258\n",
              "5   0.045872  0.266667  0.768199\n",
              "6   0.045872  0.377778  0.701273\n",
              "7   0.082569  0.377778  0.687692\n",
              "8   0.082569  0.400000  0.678734\n",
              "9   0.100917  0.400000  0.625529\n",
              "10  0.100917  0.466667  0.585674\n",
              "11  0.119266  0.466667  0.554824\n",
              "12  0.119266  0.511111  0.526308\n",
              "13  0.128440  0.511111  0.509018\n",
              "14  0.128440  0.533333  0.497343\n",
              "15  0.146789  0.533333  0.488973\n",
              "16  0.146789  0.600000  0.468960\n",
              "17  0.192661  0.600000  0.426807\n",
              "18  0.192661  0.622222  0.422324\n",
              "19  0.201835  0.622222  0.409412\n",
              "20  0.201835  0.711111  0.383703\n",
              "21  0.256881  0.711111  0.357026\n",
              "22  0.256881  0.733333  0.333926\n",
              "23  0.293578  0.733333  0.317523\n",
              "24  0.293578  0.755556  0.315411\n",
              "25  0.376147  0.755556  0.275216\n",
              "26  0.376147  0.777778  0.267511\n",
              "27  0.385321  0.777778  0.264753\n",
              "28  0.385321  0.800000  0.261688\n",
              "29  0.422018  0.800000  0.238654\n",
              "30  0.422018  0.844444  0.231157\n",
              "31  0.486239  0.844444  0.207490\n",
              "32  0.486239  0.866667  0.202923\n",
              "33  0.495413  0.866667  0.188971\n",
              "34  0.495413  0.888889  0.188782\n",
              "35  0.504587  0.888889  0.187056\n",
              "36  0.504587  0.911111  0.183047\n",
              "37  0.587156  0.911111  0.122962\n",
              "38  0.587156  0.933333  0.117660\n",
              "39  0.678899  0.933333  0.102417\n",
              "40  0.678899  0.977778  0.097352\n",
              "41  0.688073  0.977778  0.096810\n",
              "42  0.688073  1.000000  0.090450\n",
              "43  1.000000  1.000000  0.014269"
            ]
          },
          "execution_count": 103,
          "metadata": {},
          "output_type": "execute_result"
        }
      ],
      "source": [
        "pd.DataFrame([fpr,tpr,thresholds]).T"
      ]
    },
    {
      "cell_type": "code",
      "execution_count": null,
      "metadata": {
        "id": "bsE7mnWSpmKk"
      },
      "outputs": [],
      "source": [
        "#Function to plot ROC curve\n",
        "def plot_roc(y_test, predictions, title):\n",
        "    fpr, tpr, thresholds = roc_curve(y_test, predictions)\n",
        "    roc_auc = auc(fpr, tpr)\n",
        "    print('AUROC: %.3f' % roc_auc)\n",
        "    plt.plot(fpr, tpr, label='ROC curve (area = %0.2f)' % roc_auc)\n",
        "    plt.plot([0, 1], [0, 1], '--')\n",
        "    plt.xlim([0.0, 1.05])\n",
        "    plt.ylim([0.0, 1.05])\n",
        "    plt.xlabel('False Positive Rate')\n",
        "    plt.ylabel('True Positive Rate')\n",
        "    plt.title(title)\n",
        "    plt.legend(loc=\"lower right\")\n",
        "    plt.show()"
      ]
    },
    {
      "cell_type": "markdown",
      "metadata": {
        "id": "X9kgjcVYp9I2"
      },
      "source": [
        "Let's plot the ROC curves for a perfect classifier, classifier based on random guessing and our trained model : Logistic regression. The area under the ROC curve is the AUC-ROC metric. A perfect classifier has AUCROC = 1 and random guessing will have a AUCROC around 0.5.\n",
        "Our trained Logistic Regression classifier has a AUCROC of 0.8"
      ]
    },
    {
      "cell_type": "code",
      "execution_count": null,
      "metadata": {
        "colab": {
          "base_uri": "https://localhost:8080/",
          "height": 1000
        },
        "id": "U9isZxq4plBp",
        "outputId": "cb8d0d0d-d14f-4342-ac26-d5f15ebbc451"
      },
      "outputs": [
        {
          "name": "stdout",
          "output_type": "stream",
          "text": [
            "AUROC: 1.000\n"
          ]
        },
        {
          "data": {
            "image/png": "[encoded data removed]",
            "text/plain": [
              "<Figure size 720x720 with 1 Axes>"
            ]
          },
          "metadata": {},
          "output_type": "display_data"
        },
        {
          "name": "stdout",
          "output_type": "stream",
          "text": [
            "AUROC: 0.473\n"
          ]
        },
        {
          "data": {
            "image/png": "[encoded data removed]",
            "text/plain": [
              "<Figure size 720x720 with 1 Axes>"
            ]
          },
          "metadata": {},
          "output_type": "display_data"
        },
        {
          "name": "stdout",
          "output_type": "stream",
          "text": [
            "AUROC: 0.805\n"
          ]
        },
        {
          "data": {
            "image/png": "[encoded data removed]",
            "text/plain": [
              "<Figure size 720x720 with 1 Axes>"
            ]
          },
          "metadata": {},
          "output_type": "display_data"
        }
      ],
      "source": [
        "plot_roc(y_test, y_test,\"Perfect Classifier\")\n",
        "plot_roc(y_test, np.random.uniform(0, 1, len(y_test)) ,\"Random Guessing\")\n",
        "plot_roc(y_test ,y_pred_prob[:,1], \"Logistic Regression\")"
      ]
    },
    {
      "cell_type": "markdown",
      "metadata": {
        "id": "X181_DQrrD4f"
      },
      "source": [
        "### Classification Report"
      ]
    },
    {
      "cell_type": "markdown",
      "metadata": {
        "id": "Tfa18FqGrIEY"
      },
      "source": [
        "You can also generate the precision, recall, and f1 scores using classification_report.\n",
        "\n",
        "* Scores of every class correspond to the accuracy of the classifier in classifying that particular class compared to the other class.\n",
        "\n",
        "* The support is the number of samples of the true response that are in that class.\n",
        "\n",
        "* The last line gives a weighted average of precision, recall and f1-score where the weights are the support values."
      ]
    },
    {
      "cell_type": "code",
      "execution_count": null,
      "metadata": {
        "colab": {
          "base_uri": "https://localhost:8080/"
        },
        "id": "Pn7wgGghq_S4",
        "outputId": "b526b717-0ab6-4571-a325-3c6d8611aabe"
      },
      "outputs": [
        {
          "name": "stdout",
          "output_type": "stream",
          "text": [
            "              precision    recall  f1-score   support\n",
            "\n",
            "           0       0.81      0.87      0.84       109\n",
            "           1       0.62      0.51      0.56        45\n",
            "\n",
            "    accuracy                           0.77       154\n",
            "   macro avg       0.72      0.69      0.70       154\n",
            "weighted avg       0.76      0.77      0.76       154\n",
            "\n"
          ]
        }
      ],
      "source": [
        "print(classification_report(y_test, y_pred))"
      ]
    },
    {
      "cell_type": "markdown",
      "metadata": {
        "id": "9kEtNr82rMPG"
      },
      "source": [
        "### Trying Other classifiers"
      ]
    },
    {
      "cell_type": "markdown",
      "metadata": {
        "id": "UsYSleS3rYa_"
      },
      "source": [
        "Let's try some other classifiers. We will run\n",
        "* Random Forest: https://scikit-learn.org/stable/modules/generated/sklearn.ensemble.RandomForestClassifier.html\n",
        "* Support Vector Machine : https://scikit-learn.org/stable/modules/svm.html, https://scikit-learn.org/stable/modules/generated/sklearn.svm.SVC.html#sklearn.svm.SVC\n",
        "\n",
        "\n",
        "in addition to Logistic Regression and compare models based on the different metrics we discussed."
      ]
    },
    {
      "cell_type": "code",
      "execution_count": null,
      "metadata": {
        "colab": {
          "base_uri": "https://localhost:8080/",
          "height": 897
        },
        "id": "Bfn4v5AJrZRN",
        "outputId": "8af6b6a8-55ab-4eb2-b6df-4a59386e7c8c"
      },
      "outputs": [
        {
          "data": {
            "image/png": "[encoded data removed]",
            "text/plain": [
              "<Figure size 720x720 with 1 Axes>"
            ]
          },
          "metadata": {},
          "output_type": "display_data"
        },
        {
          "name": "stdout",
          "output_type": "stream",
          "text": [
            "              precision    recall  f1-score   support\n",
            "\n",
            "           0       0.85      0.82      0.83       109\n",
            "           1       0.59      0.64      0.62        45\n",
            "\n",
            "    accuracy                           0.77       154\n",
            "   macro avg       0.72      0.73      0.72       154\n",
            "weighted avg       0.77      0.77      0.77       154\n",
            "\n",
            "====================\n",
            "Accuracy: 0.766\n",
            "Recall: 0.644\n",
            "Precision: 0.592\n",
            "F1: 0.617\n",
            "====================\n",
            "AUCROC: 0.821\n"
          ]
        }
      ],
      "source": [
        "#Fit the model\n",
        "#model = LogisticRegression(solver='lbfgs')\n",
        "model = RandomForestClassifier(n_estimators=100)\n",
        "#model = svm.SVC(probability=True)\n",
        "model.fit(X_train, y_train)\n",
        "\n",
        "#Prediction\n",
        "predictions_proba = model.predict_proba(X_test)\n",
        "predictions = model.predict(X_test)\n",
        "\n",
        "\n",
        "#Getting the confusion matrix for the new\n",
        "cm = confusion_matrix(y_test,predictions)\n",
        "plot_confusion_matrix(conf_mat=cm, show_absolute=True)\n",
        "plt.show()\n",
        "\n",
        "#Let's print the classification\n",
        "print(classification_report(y_test, predictions))\n",
        "\n",
        "#Getting the metrics\n",
        "show_metrics(y_test, predictions)\n",
        "\n",
        "#Compute and print AUC-ROC Curve\n",
        "roc_auc = roc_auc_score(y_test, predictions_proba[:,1])\n",
        "print('AUCROC: %.3f' % roc_auc)"
      ]
    },
    {
      "cell_type": "markdown",
      "metadata": {
        "id": "pOs6fKlrs8e2"
      },
      "source": [
        "## Part 6: Feature Importance using Tree-Based Classifiers"
      ]
    },
    {
      "cell_type": "markdown",
      "metadata": {
        "id": "EGYZ6TZqtoAn"
      },
      "source": [
        "We will use a tree based ensemble classifier: **XGBoost**, which is very a popular ML model to output feature importance. A benefit of using ensembles of decision tree methods like gradient boosting is that they can automatically provide estimates of feature importance from a trained predictive model.\n",
        "\n",
        "Generally, importance provides a score that indicates how useful or valuable each feature was in the construction of the boosted decision trees within the model. The more an attribute is used to make key decisions with decision trees, the higher its relative importance.\n",
        "\n",
        "XGGBoost Documentation: https://xgboost.readthedocs.io/en/latest/\n",
        "Check this article for more information on feature importance usinfg XGBoost: https://machinelearningmastery.com/feature-importance-and-feature-selection-with-xgboost-in-python/\n",
        "\n"
      ]
    },
    {
      "cell_type": "code",
      "execution_count": null,
      "metadata": {
        "id": "Hr4UH4CLs5Ep"
      },
      "outputs": [],
      "source": [
        "import xgboost as xgb\n",
        "from xgboost import XGBClassifier\n",
        "from xgboost import plot_importance"
      ]
    },
    {
      "cell_type": "code",
      "execution_count": null,
      "metadata": {
        "colab": {
          "base_uri": "https://localhost:8080/"
        },
        "id": "Xrt9CLUntMeW",
        "outputId": "1aa4108d-24af-4048-bc4b-29425e19d550"
      },
      "outputs": [
        {
          "data": {
            "text/plain": [
              "XGBClassifier()"
            ]
          },
          "execution_count": 109,
          "metadata": {},
          "output_type": "execute_result"
        }
      ],
      "source": [
        "# fit model no training data\n",
        "model = XGBClassifier()\n",
        "model.fit(X_train, y_train)"
      ]
    },
    {
      "cell_type": "code",
      "execution_count": null,
      "metadata": {
        "colab": {
          "base_uri": "https://localhost:8080/",
          "height": 627
        },
        "id": "KaKGlzyctNDq",
        "outputId": "a2f1efa0-418e-4b0d-f810-a3725268846c"
      },
      "outputs": [
        {
          "data": {
            "image/png": "[encoded data removed]",
            "text/plain": [
              "<Figure size 720x720 with 1 Axes>"
            ]
          },
          "metadata": {},
          "output_type": "display_data"
        }
      ],
      "source": [
        "# plot feature importance\n",
        "fig, ax = plt.subplots(figsize=(10, 10))\n",
        "plot_importance(model, ax=ax)\n",
        "plt.show()"
      ]
    },
    {
      "cell_type": "markdown",
      "metadata": {
        "id": "35aol5bloY3Y"
      },
      "source": [
        "The results indicate that Body Mass, a family history of Diabeties and Glucose levels contribute the most the prediction of Diabeties in this model.\n",
        "\n",
        "Note: this is an older and limted data set used for training. Results could vary with more data with a different population and different features."
      ]
    },
    {
      "cell_type": "markdown",
      "metadata": {
        "id": "d5snaNHBK0_f"
      },
      "source": [
        "# **Credits**"
      ]
    },
    {
      "cell_type": "markdown",
      "metadata": {
        "id": "qYIXXHBEDBDe"
      },
      "source": [
        "**The END** <br>\n",
        "**Authors: Dr. Samir Gupta, Dr. Matthew McCoy & ICBI AIM-AHEAD Team**\n",
        "\n",
        "<img src=\"https://raw.githubusercontent.com/ICBI/AIMAHEAD_GU_publicCourseData/main/HIDSLOGO.AA1.jpg\" alt=\"Powered by\" width=\"500\"/>\n",
        "\n"
      ]
    }
  ],
  "metadata": {
    "colab": {
      "collapsed_sections": [
        "zl1rH9XxJepN",
        "yy1I1m_zUT5u",
        "m1pA-xyvCgKk",
        "jc_Vq2jZaWoH",
        "r_DbxJy1kMmT",
        "GLuVCTvmlQau",
        "8odn1O87mvrj",
        "2enMaOUSnDho",
        "X181_DQrrD4f",
        "pOs6fKlrs8e2",
        "d5snaNHBK0_f"
      ],
      "provenance": [],
      "toc_visible": true,
      "include_colab_link": true
    },
    "kernelspec": {
      "display_name": "Python 3",
      "language": "python",
      "name": "python3"
    },
    "language_info": {
      "codemirror_mode": {
        "name": "ipython",
        "version": 3
      },
      "file_extension": ".py",
      "mimetype": "text/x-python",
      "name": "python",
      "nbconvert_exporter": "python",
      "pygments_lexer": "ipython3",
      "version": "3.7.4"
    }
  },
  "nbformat": 4,
  "nbformat_minor": 0
}